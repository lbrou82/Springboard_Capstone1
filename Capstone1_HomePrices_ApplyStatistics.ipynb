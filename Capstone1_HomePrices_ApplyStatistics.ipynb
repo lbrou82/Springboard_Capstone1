{
 "cells": [
  {
   "cell_type": "markdown",
   "metadata": {},
   "source": [
    "<h2><center>Predicting Home Values in Los Angeles’ South Bay</center></h2>\n",
    "<h3><center>Springboard | Capstone #1 - Apply Statistics</center></h3>\n",
    "<h4><center>By: Lauren Broussard</center></h4>\n",
    "\n",
    "---"
   ]
  },
  {
   "cell_type": "markdown",
   "metadata": {},
   "source": [
    "As we look to see if we can predict home prices in the South Bay, let's look more closely at a couple of the features involved in home price, and apply some of the statistical inference methods we learned in our Springboard curriculum. \n",
    "\n",
    "We will be asking the following questions about our South Bay dataset: \n",
    "\n",
    "* **Is there a difference in average home price for homes that sell in the summer vs. non summer months?** \n",
    "* **Is there a difference in average home price between \"newer\" homes vs \"older\" homes?**  "
   ]
  },
  {
   "cell_type": "code",
   "execution_count": 1,
   "metadata": {},
   "outputs": [],
   "source": [
    "# load relevant libraries\n",
    "import pandas as pd\n",
    "import numpy as np\n",
    "from datetime import datetime \n",
    "\n",
    "import matplotlib.pyplot as plt\n",
    "import seaborn as sns\n",
    "\n",
    "%matplotlib inline"
   ]
  },
  {
   "cell_type": "code",
   "execution_count": 2,
   "metadata": {},
   "outputs": [],
   "source": [
    "sns.set() # set graphs to follow seaborn default view"
   ]
  },
  {
   "cell_type": "markdown",
   "metadata": {},
   "source": [
    "Let's import our data again and take a quick look at it. "
   ]
  },
  {
   "cell_type": "code",
   "execution_count": 3,
   "metadata": {},
   "outputs": [],
   "source": [
    "# import south bay data\n",
    "south_bay = pd.read_csv('south_bay_cleaned.csv', parse_dates=['SOLD DATE'])\n",
    "south_bay['ZIP OR POSTAL CODE'] = south_bay['ZIP OR POSTAL CODE'].astype(int)"
   ]
  },
  {
   "cell_type": "code",
   "execution_count": 4,
   "metadata": {},
   "outputs": [
    {
     "data": {
      "text/html": [
       "<div>\n",
       "<style scoped>\n",
       "    .dataframe tbody tr th:only-of-type {\n",
       "        vertical-align: middle;\n",
       "    }\n",
       "\n",
       "    .dataframe tbody tr th {\n",
       "        vertical-align: top;\n",
       "    }\n",
       "\n",
       "    .dataframe thead th {\n",
       "        text-align: right;\n",
       "    }\n",
       "</style>\n",
       "<table border=\"1\" class=\"dataframe\">\n",
       "  <thead>\n",
       "    <tr style=\"text-align: right;\">\n",
       "      <th></th>\n",
       "      <th>SOLD DATE</th>\n",
       "      <th>PROPERTY TYPE</th>\n",
       "      <th>ADDRESS</th>\n",
       "      <th>CITY</th>\n",
       "      <th>PRICE</th>\n",
       "      <th>ZIP OR POSTAL CODE</th>\n",
       "      <th>BEDS</th>\n",
       "      <th>BATHS</th>\n",
       "      <th>SQUARE FEET</th>\n",
       "      <th>LOT SIZE</th>\n",
       "      <th>YEAR BUILT</th>\n",
       "      <th>DAYS ON MARKET</th>\n",
       "      <th>$/SQUARE FEET</th>\n",
       "      <th>HOA/MONTH</th>\n",
       "      <th>MLS#</th>\n",
       "      <th>LATITUDE</th>\n",
       "      <th>LONGITUDE</th>\n",
       "      <th>NEIGHBORHOOD</th>\n",
       "    </tr>\n",
       "  </thead>\n",
       "  <tbody>\n",
       "    <tr>\n",
       "      <th>0</th>\n",
       "      <td>2019-02-01</td>\n",
       "      <td>Single Family Residential</td>\n",
       "      <td>1641 Bay View Ave</td>\n",
       "      <td>Wilmington</td>\n",
       "      <td>730000</td>\n",
       "      <td>90744</td>\n",
       "      <td>7.0</td>\n",
       "      <td>5.0</td>\n",
       "      <td>3401.0</td>\n",
       "      <td>6651.0</td>\n",
       "      <td>2008</td>\n",
       "      <td>358.0</td>\n",
       "      <td>215.0</td>\n",
       "      <td>0.0</td>\n",
       "      <td>SB18278853</td>\n",
       "      <td>33.796254</td>\n",
       "      <td>-118.271532</td>\n",
       "      <td>Wilmington</td>\n",
       "    </tr>\n",
       "    <tr>\n",
       "      <th>1</th>\n",
       "      <td>2018-05-31</td>\n",
       "      <td>Single Family Residential</td>\n",
       "      <td>1410 W Sandison St</td>\n",
       "      <td>Wilmington</td>\n",
       "      <td>547000</td>\n",
       "      <td>90744</td>\n",
       "      <td>4.0</td>\n",
       "      <td>2.0</td>\n",
       "      <td>1948.0</td>\n",
       "      <td>5399.0</td>\n",
       "      <td>1962</td>\n",
       "      <td>604.0</td>\n",
       "      <td>281.0</td>\n",
       "      <td>0.0</td>\n",
       "      <td>SB18091442</td>\n",
       "      <td>33.792195</td>\n",
       "      <td>-118.280823</td>\n",
       "      <td>Wilmington</td>\n",
       "    </tr>\n",
       "    <tr>\n",
       "      <th>2</th>\n",
       "      <td>2019-10-31</td>\n",
       "      <td>Single Family Residential</td>\n",
       "      <td>1703 N Marine Ave</td>\n",
       "      <td>Wilmington</td>\n",
       "      <td>774000</td>\n",
       "      <td>90744</td>\n",
       "      <td>5.0</td>\n",
       "      <td>3.5</td>\n",
       "      <td>2900.0</td>\n",
       "      <td>5857.0</td>\n",
       "      <td>1940</td>\n",
       "      <td>86.0</td>\n",
       "      <td>267.0</td>\n",
       "      <td>0.0</td>\n",
       "      <td>PW19223929</td>\n",
       "      <td>33.797547</td>\n",
       "      <td>-118.265430</td>\n",
       "      <td>Wilmington</td>\n",
       "    </tr>\n",
       "  </tbody>\n",
       "</table>\n",
       "</div>"
      ],
      "text/plain": [
       "   SOLD DATE              PROPERTY TYPE             ADDRESS        CITY  \\\n",
       "0 2019-02-01  Single Family Residential   1641 Bay View Ave  Wilmington   \n",
       "1 2018-05-31  Single Family Residential  1410 W Sandison St  Wilmington   \n",
       "2 2019-10-31  Single Family Residential   1703 N Marine Ave  Wilmington   \n",
       "\n",
       "    PRICE  ZIP OR POSTAL CODE  BEDS  BATHS  SQUARE FEET  LOT SIZE  YEAR BUILT  \\\n",
       "0  730000               90744   7.0    5.0       3401.0    6651.0        2008   \n",
       "1  547000               90744   4.0    2.0       1948.0    5399.0        1962   \n",
       "2  774000               90744   5.0    3.5       2900.0    5857.0        1940   \n",
       "\n",
       "   DAYS ON MARKET  $/SQUARE FEET  HOA/MONTH        MLS#   LATITUDE  \\\n",
       "0           358.0          215.0        0.0  SB18278853  33.796254   \n",
       "1           604.0          281.0        0.0  SB18091442  33.792195   \n",
       "2            86.0          267.0        0.0  PW19223929  33.797547   \n",
       "\n",
       "    LONGITUDE NEIGHBORHOOD  \n",
       "0 -118.271532   Wilmington  \n",
       "1 -118.280823   Wilmington  \n",
       "2 -118.265430   Wilmington  "
      ]
     },
     "execution_count": 4,
     "metadata": {},
     "output_type": "execute_result"
    }
   ],
   "source": [
    "south_bay.head(3)"
   ]
  },
  {
   "cell_type": "markdown",
   "metadata": {},
   "source": [
    "### Summer vs. Non-Summer Sales"
   ]
  },
  {
   "cell_type": "markdown",
   "metadata": {},
   "source": [
    "We'll begin with our first question: \n",
    "\n",
    "**Do homes that sell in the *summer* sell for higher prices (on average) than other months?** We will define summer months as months in June, July, and August, and non-summer months as all other months of the year. "
   ]
  },
  {
   "cell_type": "code",
   "execution_count": 5,
   "metadata": {},
   "outputs": [],
   "source": [
    "summer_mos = [6,7,8]\n",
    "no_summer_mos = [1,2,3,4,9,10,11,12]\n",
    "\n",
    "summer = south_bay[south_bay['SOLD DATE'].dt.month.isin(summer_mos)]\n",
    "no_summer = south_bay[south_bay['SOLD DATE'].dt.month.isin(no_summer_mos)]"
   ]
  },
  {
   "cell_type": "markdown",
   "metadata": {},
   "source": [
    "From our earlier work, we could see that the top months for *number* of home sales seemed to be in the summer months. Let's look at the average home price in each of those months."
   ]
  },
  {
   "cell_type": "code",
   "execution_count": 6,
   "metadata": {},
   "outputs": [
    {
     "data": {
      "image/png": "[encoded data removed]",
      "text/plain": [
       "<Figure size 432x288 with 1 Axes>"
      ]
     },
     "metadata": {},
     "output_type": "display_data"
    }
   ],
   "source": [
    "# group months by average price\n",
    "months = south_bay.groupby(south_bay['SOLD DATE'].dt.month)\n",
    "monthly_averages = months.aggregate({\"PRICE\":np.mean})\n",
    "\n",
    "# assign colors for chart  by month\n",
    "color = []\n",
    "for i in range(12):\n",
    "    if i+1 in summer_mos:\n",
    "        color.append('orange')\n",
    "    else:\n",
    "        color.append('blue')\n",
    "\n",
    "# plot average price by month\n",
    "_= monthly_averages.plot(kind='bar',legend=False,color=color,y=0,alpha=0.75)\n",
    "_= plt.hlines(y=south_bay['PRICE'].mean(),xmin=-1,xmax=12,linestyle='--')\n",
    "_= plt.title(\"Average Price by Month\")"
   ]
  },
  {
   "cell_type": "markdown",
   "metadata": {},
   "source": [
    "The average price of homes in the summer months does not seem at first glance to be that different than some other months. Let's look at this further. "
   ]
  },
  {
   "cell_type": "code",
   "execution_count": 7,
   "metadata": {},
   "outputs": [
    {
     "name": "stdout",
     "output_type": "stream",
     "text": [
      "Mean Price, Summer: 1034713.4665672383\n",
      "Mean Price, Not Summer: 977001.9234021988\n",
      "Difference in Mean Prices: 57711.543165039504\n"
     ]
    }
   ],
   "source": [
    "# calculate mean price for each group\n",
    "obs_summer = np.mean(summer.PRICE)\n",
    "obs_nosummer = np.mean(no_summer.PRICE)\n",
    "\n",
    "# calculate difference in means \n",
    "obs_diff = obs_summer - obs_nosummer\n",
    "\n",
    "print(\"Mean Price, Summer:\", obs_summer)\n",
    "print(\"Mean Price, Not Summer:\", obs_nosummer)\n",
    "print(\"Difference in Mean Prices:\", obs_diff)"
   ]
  },
  {
   "cell_type": "markdown",
   "metadata": {},
   "source": [
    "The mean price between the two groups in our dataset has a difference of $57,788. If the averages were the same, we would expect to see that the difference in mean would be closer to 0. \n",
    "\n",
    "We will simulate resampling our data to look at the difference in means between the two groups using Bootstrap inference. We'll first create a function for our test, will create new arrays where we shift the means of the groups by the mean price of all homes. We will then simulate resampling the data 10,000 times. "
   ]
  },
  {
   "cell_type": "markdown",
   "metadata": {},
   "source": [
    "<center>We will state our hypotheses, or expectations about the test here: </center>\n",
    "\n",
    "__NULL HYPOTHESIS:__ There is NO difference in mean home prices in the summer months compared to the rest of the year. \n",
    "\n",
    "__ALTERNATE HYPOTHESIS:__ There is a difference in mean home prices in the summer months compared to the rest of the year. "
   ]
  },
  {
   "cell_type": "markdown",
   "metadata": {},
   "source": [
    "<center>We will look for a significance level (p-value) of 0.05</center>\n"
   ]
  },
  {
   "cell_type": "code",
   "execution_count": 8,
   "metadata": {},
   "outputs": [],
   "source": [
    "# create function to draw bootstrap replicates \n",
    "\n",
    "def get_replicates(data,func,size=1):\n",
    "    \"\"\"Function to create bootstrap replicates\"\"\"  \n",
    "\n",
    "    # initialize an empty array to store replicates\n",
    "    bs_replicates = np.empty(size)\n",
    "\n",
    "    # get n number of bootstrap replicates\n",
    "    for i in range(size):\n",
    "        bs_sample = np.random.choice(data, size=len(data))\n",
    "        bs_replicates[i] = np.mean(bs_sample)\n",
    "    return bs_replicates"
   ]
  },
  {
   "cell_type": "code",
   "execution_count": 9,
   "metadata": {},
   "outputs": [
    {
     "name": "stdout",
     "output_type": "stream",
     "text": [
      "Mean difference between groups, p-value: 0.0018\n"
     ]
    }
   ],
   "source": [
    "# Compute mean of all prices\n",
    "obs_avg_price = np.mean(south_bay.PRICE)\n",
    "\n",
    "# Generate shifted arrays for each group\n",
    "summer_shifted = summer.PRICE - obs_summer + obs_avg_price\n",
    "no_summershifted = no_summer.PRICE - obs_nosummer + obs_avg_price \n",
    "\n",
    "# Compute 10000 bootstrap replicates from shifted arrays\n",
    "bs_replicates_summer = get_replicates(summer_shifted, np.mean, size=10000)\n",
    "bs_replicates_nosummer = get_replicates(summer_shifted, np.mean, size=10000)\n",
    "\n",
    "# Get replicates of difference of means: bs_replicates\n",
    "bs_replicates = bs_replicates_summer - bs_replicates_nosummer\n",
    "\n",
    "# Compute and print p-value: p\n",
    "p = np.sum(bs_replicates >= obs_diff) / 10000\n",
    "print('Mean difference between groups, p-value:', p)"
   ]
  },
  {
   "cell_type": "code",
   "execution_count": 10,
   "metadata": {},
   "outputs": [
    {
     "data": {
      "image/png": "[encoded data removed]",
      "text/plain": [
       "<Figure size 432x288 with 1 Axes>"
      ]
     },
     "metadata": {},
     "output_type": "display_data"
    }
   ],
   "source": [
    "# calculate confidence intervals\n",
    "intv = np.percentile(bs_replicates,[2.5,97.5])\n",
    "_= plt.hist(bs_replicates,bins=20,ec='black')\n",
    "_= plt.xlabel(\"Mean Differences Between Summer Prices and Non-Summer Prices \\n 10,000 Samples\")\n",
    "_= plt.axvline(obs_diff,color='red')\n",
    "_= plt.axvline(intv[0],linestyle='--',color ='red')\n",
    "_= plt.axvline(intv[1],linestyle='--',color='red')\n",
    "plt.show()"
   ]
  },
  {
   "cell_type": "markdown",
   "metadata": {},
   "source": [
    "Based on our results above, with a p-value of 0.002 and since the difference in means is outside of our confidence interval, we will reject the null hypothesis that there is no difference between the means. "
   ]
  },
  {
   "cell_type": "markdown",
   "metadata": {},
   "source": [
    "______"
   ]
  },
  {
   "cell_type": "markdown",
   "metadata": {},
   "source": [
    "### Newer vs. Older Homes (Redondo Beach)"
   ]
  },
  {
   "cell_type": "markdown",
   "metadata": {},
   "source": [
    "Let's turn our attention to the year a home was built. We will look at one neighborhood here, Redondo Beach, that has a large number of home sales (n~1800) compared to other neighborhoods. "
   ]
  },
  {
   "cell_type": "code",
   "execution_count": 11,
   "metadata": {},
   "outputs": [
    {
     "data": {
      "image/png": "[encoded data removed]",
      "text/plain": [
       "<Figure size 432x288 with 1 Axes>"
      ]
     },
     "metadata": {},
     "output_type": "display_data"
    }
   ],
   "source": [
    "# show number of homes built by year\n",
    "neighborhood_name = 'Redondo Beach'\n",
    "neighborhood = south_bay[south_bay['NEIGHBORHOOD'] == neighborhood_name]\n",
    "_= neighborhood.hist('YEAR BUILT',bins=50)\n",
    "_= plt.title('Number of Homes Sold by Year Built')"
   ]
  },
  {
   "cell_type": "code",
   "execution_count": 12,
   "metadata": {},
   "outputs": [
    {
     "data": {
      "image/png": "[encoded data removed]",
      "text/plain": [
       "<Figure size 432x288 with 1 Axes>"
      ]
     },
     "metadata": {},
     "output_type": "display_data"
    }
   ],
   "source": [
    "# display average home price by year \n",
    "\n",
    "years = neighborhood.groupby('YEAR BUILT')\n",
    "yearly_averages = years.aggregate({\"PRICE\":np.mean})\n",
    "\n",
    "_= yearly_averages.plot(kind='area',legend=False,y=0,alpha=0.75)\n",
    "_= plt.hlines(y=neighborhood['PRICE'].mean(),xmin=1900,xmax=2020,linestyle='--')\n",
    "_= plt.title(\"Average Price by Year Built\")"
   ]
  },
  {
   "cell_type": "markdown",
   "metadata": {},
   "source": [
    "The home prices seem to fluctuate over the years, though seem to have a more steady increase after about 2000, after a large dip.\n",
    "\n",
    "Let's use homes built before 2000 vs homes built after 2000 as our two groups. Again, we will do a bootstrap test to look at the difference in means between the two groups. "
   ]
  },
  {
   "cell_type": "markdown",
   "metadata": {},
   "source": [
    "<center>We will state our hypotheses, or expectations about this new test here: </center>\n",
    "\n",
    "__NULL HYPOTHESIS:__ There is NO difference in mean home prices between homes built before or in 2000 and homes built after 2000.\n",
    "\n",
    "__ALTERNATE HYPOTHESIS:__ There is a difference in mean home prices between homes built before or in 2000 and homes built after 2000. \n",
    "\n",
    "Again, we'll look for a significance level of 0.05."
   ]
  },
  {
   "cell_type": "code",
   "execution_count": 13,
   "metadata": {},
   "outputs": [],
   "source": [
    "# create two groups, built in or before a certain date, and those built after. \n",
    "date = 2000\n",
    "during_prior = neighborhood[neighborhood['YEAR BUILT'] <= date]\n",
    "after = neighborhood[neighborhood['YEAR BUILT'] > date]"
   ]
  },
  {
   "cell_type": "code",
   "execution_count": 14,
   "metadata": {},
   "outputs": [
    {
     "name": "stdout",
     "output_type": "stream",
     "text": [
      "Mean Price, 2000 and before: 1078491.7327971403\n",
      "Mean Price, After 2000: 1450324.140311804\n",
      "Difference in Mean Prices: 371832.40751466365\n"
     ]
    }
   ],
   "source": [
    "# get means and average difference between groups\n",
    "obs_during_prior = np.mean(during_prior.PRICE)\n",
    "obs_after = np.mean(after.PRICE)\n",
    "\n",
    "# calculate difference in means \n",
    "obs_diff2 = obs_after - obs_during_prior\n",
    "\n",
    "print(\"Mean Price, 2000 and before:\", obs_during_prior)\n",
    "print(\"Mean Price, After 2000:\", obs_after)\n",
    "print(\"Difference in Mean Prices:\", obs_diff2)"
   ]
  },
  {
   "cell_type": "markdown",
   "metadata": {},
   "source": [
    "The observed difference in price between newer homes and older homes is about $381,832."
   ]
  },
  {
   "cell_type": "markdown",
   "metadata": {},
   "source": [
    "We'll use our earlier *get_replicates* method to rerun our samples 10,000 times. "
   ]
  },
  {
   "cell_type": "code",
   "execution_count": 15,
   "metadata": {},
   "outputs": [
    {
     "name": "stdout",
     "output_type": "stream",
     "text": [
      "Mean difference between groups, p-value: 0.0\n"
     ]
    }
   ],
   "source": [
    "obs_avg_price2 = np.mean(south_bay.PRICE)\n",
    "\n",
    "# Generate shifted arrays for each group\n",
    "shifted_during_prior = during_prior.PRICE - obs_during_prior + obs_avg_price2\n",
    "shifted_after = after.PRICE - obs_after + obs_avg_price2 \n",
    "\n",
    "# Compute 10000 bootstrap replicates from shifted arrays\n",
    "bs_replicates_during_prior = get_replicates(shifted_during_prior, np.mean, size=10000)\n",
    "bs_replicates_after = get_replicates(shifted_after, np.mean, size=10000)\n",
    "\n",
    "# Get replicates of difference of means: bs_replicates\n",
    "bs_replicates2 = bs_replicates_after - bs_replicates_during_prior\n",
    "\n",
    "# Compute and print p-value: p\n",
    "p = np.sum(bs_replicates2 >= obs_diff2) / 10000\n",
    "print('Mean difference between groups, p-value:', p)"
   ]
  },
  {
   "cell_type": "code",
   "execution_count": 16,
   "metadata": {},
   "outputs": [
    {
     "data": {
      "image/png": "[encoded data removed]",
      "text/plain": [
       "<Figure size 432x288 with 1 Axes>"
      ]
     },
     "metadata": {},
     "output_type": "display_data"
    }
   ],
   "source": [
    "# calculate confidence intervals\n",
    "intv = np.percentile(bs_replicates2,[2.5,97.5])\n",
    "_= plt.hist(bs_replicates2,bins=20,ec='black')\n",
    "_= plt.xlabel(\"Redondo Beach: Mean Differences Homes Built Prior to 2000 and After 2000 \\n 10,000 Samples\")\n",
    "_= plt.axvline(obs_diff2,color='red')\n",
    "_= plt.axvline(intv[0],linestyle='--',color ='red')\n",
    "_= plt.axvline(intv[1],linestyle='--',color='red')\n",
    "plt.show()"
   ]
  },
  {
   "cell_type": "markdown",
   "metadata": {},
   "source": [
    "Based on this information, and a p-value of 0.0, we would reject the null hypothesis that there is no difference in average price between homes built before 2000 and those built after in this particular neighborhood in Redondo Beach."
   ]
  },
  {
   "cell_type": "markdown",
   "metadata": {},
   "source": [
    "-----"
   ]
  }
 ],
 "metadata": {
  "kernelspec": {
   "display_name": "Python 3",
   "language": "python",
   "name": "python3"
  },
  "language_info": {
   "codemirror_mode": {
    "name": "ipython",
    "version": 3
   },
   "file_extension": ".py",
   "mimetype": "text/x-python",
   "name": "python",
   "nbconvert_exporter": "python",
   "pygments_lexer": "ipython3",
   "version": "3.7.6"
  }
 },
 "nbformat": 4,
 "nbformat_minor": 2
}
