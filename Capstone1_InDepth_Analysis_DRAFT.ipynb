{
 "cells": [
  {
   "cell_type": "markdown",
   "metadata": {},
   "source": [
    "<h2><center>Predicting Home Values in Los Angeles’ South Bay</center></h2>\n",
    "<h3><center>Springboard | Capstone #1 - In Depth Analysis</center></h3>\n",
    "<h4><center>By: Lauren Broussard</center></h4>\n",
    "---"
   ]
  },
  {
   "cell_type": "markdown",
   "metadata": {},
   "source": [
    "Using some of our previous findings, we will now use machine learning to see how well we can predict housing prices in the South Bay area. \n",
    "\n",
    "As we are looking at a continous random variable (as opposed to a discrete variable), we'll look at this as a regression problem. Further, since we already have labeled data (features and housing prices), we'll do a Supervised Learning approach. Additionally, we will try to determine which features are most important in predicting home prices in this area. \n",
    "\n",
    "For this problem, we'll be using Random Forest Regression, an ensemble method that expands on the Decision Tree approach. "
   ]
  },
  {
   "cell_type": "code",
   "execution_count": 1,
   "metadata": {},
   "outputs": [],
   "source": [
    "# import relevant libraries\n",
    "import numpy as np\n",
    "import pandas as pd\n",
    "\n",
    "\n",
    "%matplotlib inline\n",
    "import matplotlib.pyplot as plt\n",
    "import seaborn as sns"
   ]
  },
  {
   "cell_type": "code",
   "execution_count": 2,
   "metadata": {},
   "outputs": [],
   "source": [
    "# import south_bay dataset \n",
    "south_bay = pd.read_csv('south_bay_cleaned.csv', parse_dates = ['SOLD DATE'])"
   ]
  },
  {
   "cell_type": "markdown",
   "metadata": {},
   "source": [
    "### Data Preparation and Encoding "
   ]
  },
  {
   "cell_type": "markdown",
   "metadata": {},
   "source": [
    "#### Drop Columns & Set Dates/Seasons"
   ]
  },
  {
   "cell_type": "code",
   "execution_count": 3,
   "metadata": {},
   "outputs": [],
   "source": [
    "# drop address and mls number, as these won't work in model\n",
    "# drop $/square feet\n",
    "south_bay.drop(['ADDRESS','MLS#','$/SQUARE FEET', 'CITY'], axis=1,inplace=True)"
   ]
  },
  {
   "cell_type": "code",
   "execution_count": 4,
   "metadata": {},
   "outputs": [],
   "source": [
    "# handle dates \n",
    "# create separate date columns \n",
    "\n",
    "south_bay['SOLD_YEAR'] = south_bay['SOLD DATE'].dt.year\n",
    "south_bay['SOLD_MONTH'] = south_bay['SOLD DATE'].dt.month\n",
    "south_bay['SOLD_WEEK'] = south_bay['SOLD DATE'].dt.week\n",
    "south_bay['SOLD_DAY'] = south_bay['SOLD DATE'].dt.day\n",
    "\n",
    "\n",
    "# add column - seasons to dataset \n",
    "# create dictionary mapping of seasons to months\n",
    "seasons = ['Winter', 'Winter', 'Spring', 'Spring', 'Spring', 'Summer', 'Summer',\\\n",
    "           'Summer', 'Fall', 'Fall', 'Fall', 'Winter']\n",
    "\n",
    "month_to_season = dict(zip(range(1,13), seasons))\n",
    "\n",
    "# map months to seasons and create new column \n",
    "south_bay['SEASON'] = south_bay['SOLD DATE'].dt.month.map(month_to_season) "
   ]
  },
  {
   "cell_type": "code",
   "execution_count": 5,
   "metadata": {},
   "outputs": [],
   "source": [
    "# drop datetime column \n",
    "south_bay.drop(['SOLD DATE'], axis=1,inplace=True)"
   ]
  },
  {
   "cell_type": "markdown",
   "metadata": {},
   "source": [
    "#### One-Hot Encoding"
   ]
  },
  {
   "cell_type": "markdown",
   "metadata": {},
   "source": [
    "We'll use one-hot encoding to change categorical columns to binary values before putting them in the model. "
   ]
  },
  {
   "cell_type": "code",
   "execution_count": 6,
   "metadata": {},
   "outputs": [
    {
     "data": {
      "text/html": [
       "<div>\n",
       "<style scoped>\n",
       "    .dataframe tbody tr th:only-of-type {\n",
       "        vertical-align: middle;\n",
       "    }\n",
       "\n",
       "    .dataframe tbody tr th {\n",
       "        vertical-align: top;\n",
       "    }\n",
       "\n",
       "    .dataframe thead th {\n",
       "        text-align: right;\n",
       "    }\n",
       "</style>\n",
       "<table border=\"1\" class=\"dataframe\">\n",
       "  <thead>\n",
       "    <tr style=\"text-align: right;\">\n",
       "      <th></th>\n",
       "      <th>LONGITUDE</th>\n",
       "      <th>SOLD_YEAR</th>\n",
       "      <th>SOLD_MONTH</th>\n",
       "      <th>SOLD_WEEK</th>\n",
       "      <th>SOLD_DAY</th>\n",
       "      <th>PROPERTY TYPE_Condo/Co-op</th>\n",
       "      <th>PROPERTY TYPE_Mobile/Manufactured Home</th>\n",
       "      <th>PROPERTY TYPE_Single Family Residential</th>\n",
       "      <th>PROPERTY TYPE_Townhouse</th>\n",
       "      <th>NEIGHBORHOOD_Alondra Park</th>\n",
       "      <th>...</th>\n",
       "      <th>NEIGHBORHOOD_Rolling Hills Estates</th>\n",
       "      <th>NEIGHBORHOOD_San Pedro</th>\n",
       "      <th>NEIGHBORHOOD_Torrance</th>\n",
       "      <th>NEIGHBORHOOD_Watts</th>\n",
       "      <th>NEIGHBORHOOD_Westchester</th>\n",
       "      <th>NEIGHBORHOOD_Wilmington</th>\n",
       "      <th>SEASON_Fall</th>\n",
       "      <th>SEASON_Spring</th>\n",
       "      <th>SEASON_Summer</th>\n",
       "      <th>SEASON_Winter</th>\n",
       "    </tr>\n",
       "  </thead>\n",
       "  <tbody>\n",
       "    <tr>\n",
       "      <th>0</th>\n",
       "      <td>-118.271532</td>\n",
       "      <td>2019</td>\n",
       "      <td>2</td>\n",
       "      <td>5</td>\n",
       "      <td>1</td>\n",
       "      <td>0</td>\n",
       "      <td>0</td>\n",
       "      <td>1</td>\n",
       "      <td>0</td>\n",
       "      <td>0</td>\n",
       "      <td>...</td>\n",
       "      <td>0</td>\n",
       "      <td>0</td>\n",
       "      <td>0</td>\n",
       "      <td>0</td>\n",
       "      <td>0</td>\n",
       "      <td>1</td>\n",
       "      <td>0</td>\n",
       "      <td>0</td>\n",
       "      <td>0</td>\n",
       "      <td>1</td>\n",
       "    </tr>\n",
       "    <tr>\n",
       "      <th>1</th>\n",
       "      <td>-118.280823</td>\n",
       "      <td>2018</td>\n",
       "      <td>5</td>\n",
       "      <td>22</td>\n",
       "      <td>31</td>\n",
       "      <td>0</td>\n",
       "      <td>0</td>\n",
       "      <td>1</td>\n",
       "      <td>0</td>\n",
       "      <td>0</td>\n",
       "      <td>...</td>\n",
       "      <td>0</td>\n",
       "      <td>0</td>\n",
       "      <td>0</td>\n",
       "      <td>0</td>\n",
       "      <td>0</td>\n",
       "      <td>1</td>\n",
       "      <td>0</td>\n",
       "      <td>1</td>\n",
       "      <td>0</td>\n",
       "      <td>0</td>\n",
       "    </tr>\n",
       "    <tr>\n",
       "      <th>2</th>\n",
       "      <td>-118.265430</td>\n",
       "      <td>2019</td>\n",
       "      <td>10</td>\n",
       "      <td>44</td>\n",
       "      <td>31</td>\n",
       "      <td>0</td>\n",
       "      <td>0</td>\n",
       "      <td>1</td>\n",
       "      <td>0</td>\n",
       "      <td>0</td>\n",
       "      <td>...</td>\n",
       "      <td>0</td>\n",
       "      <td>0</td>\n",
       "      <td>0</td>\n",
       "      <td>0</td>\n",
       "      <td>0</td>\n",
       "      <td>1</td>\n",
       "      <td>1</td>\n",
       "      <td>0</td>\n",
       "      <td>0</td>\n",
       "      <td>0</td>\n",
       "    </tr>\n",
       "    <tr>\n",
       "      <th>3</th>\n",
       "      <td>-118.270032</td>\n",
       "      <td>2019</td>\n",
       "      <td>4</td>\n",
       "      <td>16</td>\n",
       "      <td>15</td>\n",
       "      <td>0</td>\n",
       "      <td>0</td>\n",
       "      <td>0</td>\n",
       "      <td>1</td>\n",
       "      <td>0</td>\n",
       "      <td>...</td>\n",
       "      <td>0</td>\n",
       "      <td>0</td>\n",
       "      <td>0</td>\n",
       "      <td>0</td>\n",
       "      <td>0</td>\n",
       "      <td>1</td>\n",
       "      <td>0</td>\n",
       "      <td>1</td>\n",
       "      <td>0</td>\n",
       "      <td>0</td>\n",
       "    </tr>\n",
       "    <tr>\n",
       "      <th>4</th>\n",
       "      <td>-118.248288</td>\n",
       "      <td>2018</td>\n",
       "      <td>2</td>\n",
       "      <td>7</td>\n",
       "      <td>12</td>\n",
       "      <td>0</td>\n",
       "      <td>0</td>\n",
       "      <td>0</td>\n",
       "      <td>1</td>\n",
       "      <td>0</td>\n",
       "      <td>...</td>\n",
       "      <td>0</td>\n",
       "      <td>0</td>\n",
       "      <td>0</td>\n",
       "      <td>0</td>\n",
       "      <td>0</td>\n",
       "      <td>1</td>\n",
       "      <td>0</td>\n",
       "      <td>0</td>\n",
       "      <td>0</td>\n",
       "      <td>1</td>\n",
       "    </tr>\n",
       "  </tbody>\n",
       "</table>\n",
       "<p>5 rows × 42 columns</p>\n",
       "</div>"
      ],
      "text/plain": [
       "    LONGITUDE  SOLD_YEAR  SOLD_MONTH  SOLD_WEEK  SOLD_DAY  \\\n",
       "0 -118.271532       2019           2          5         1   \n",
       "1 -118.280823       2018           5         22        31   \n",
       "2 -118.265430       2019          10         44        31   \n",
       "3 -118.270032       2019           4         16        15   \n",
       "4 -118.248288       2018           2          7        12   \n",
       "\n",
       "   PROPERTY TYPE_Condo/Co-op  PROPERTY TYPE_Mobile/Manufactured Home  \\\n",
       "0                          0                                       0   \n",
       "1                          0                                       0   \n",
       "2                          0                                       0   \n",
       "3                          0                                       0   \n",
       "4                          0                                       0   \n",
       "\n",
       "   PROPERTY TYPE_Single Family Residential  PROPERTY TYPE_Townhouse  \\\n",
       "0                                        1                        0   \n",
       "1                                        1                        0   \n",
       "2                                        1                        0   \n",
       "3                                        0                        1   \n",
       "4                                        0                        1   \n",
       "\n",
       "   NEIGHBORHOOD_Alondra Park  ...  NEIGHBORHOOD_Rolling Hills Estates  \\\n",
       "0                          0  ...                                   0   \n",
       "1                          0  ...                                   0   \n",
       "2                          0  ...                                   0   \n",
       "3                          0  ...                                   0   \n",
       "4                          0  ...                                   0   \n",
       "\n",
       "   NEIGHBORHOOD_San Pedro  NEIGHBORHOOD_Torrance  NEIGHBORHOOD_Watts  \\\n",
       "0                       0                      0                   0   \n",
       "1                       0                      0                   0   \n",
       "2                       0                      0                   0   \n",
       "3                       0                      0                   0   \n",
       "4                       0                      0                   0   \n",
       "\n",
       "   NEIGHBORHOOD_Westchester  NEIGHBORHOOD_Wilmington  SEASON_Fall  \\\n",
       "0                         0                        1            0   \n",
       "1                         0                        1            0   \n",
       "2                         0                        1            1   \n",
       "3                         0                        1            0   \n",
       "4                         0                        1            0   \n",
       "\n",
       "   SEASON_Spring  SEASON_Summer  SEASON_Winter  \n",
       "0              0              0              1  \n",
       "1              1              0              0  \n",
       "2              0              0              0  \n",
       "3              1              0              0  \n",
       "4              0              0              1  \n",
       "\n",
       "[5 rows x 42 columns]"
      ]
     },
     "execution_count": 6,
     "metadata": {},
     "output_type": "execute_result"
    }
   ],
   "source": [
    "# one hot encoding on all categorical variables\n",
    "south_bay_f = pd.get_dummies(south_bay)\n",
    "\n",
    "# Display the first 5 rows of the last columns\n",
    "south_bay_f.iloc[:,10:].head(5)"
   ]
  },
  {
   "cell_type": "markdown",
   "metadata": {},
   "source": [
    "#### Separate Feature Data from Target (Price) Data"
   ]
  },
  {
   "cell_type": "code",
   "execution_count": 7,
   "metadata": {},
   "outputs": [],
   "source": [
    "# split data into target and features \n",
    "X = south_bay_f.drop(['PRICE'],axis=1) \n",
    "\n",
    "y = south_bay_f['PRICE']"
   ]
  },
  {
   "cell_type": "markdown",
   "metadata": {},
   "source": [
    "## Random Forest Regression"
   ]
  },
  {
   "cell_type": "markdown",
   "metadata": {},
   "source": [
    "#### Split into Training and Testing Data"
   ]
  },
  {
   "cell_type": "code",
   "execution_count": 8,
   "metadata": {},
   "outputs": [],
   "source": [
    "# split data into training and testing \n",
    "from sklearn.model_selection import train_test_split \n",
    "\n",
    "X_train,X_test,y_train,y_test = train_test_split(X,y,test_size=0.3, random_state=42)"
   ]
  },
  {
   "cell_type": "markdown",
   "metadata": {},
   "source": [
    "#### Establish Baseline"
   ]
  },
  {
   "cell_type": "markdown",
   "metadata": {},
   "source": [
    "If we were to venture a guess to predict housing prices on each property without any other knowledge, we might guess the median home price for all the properties. We'll set that as our baseline and see if our model can outperform that. "
   ]
  },
  {
   "cell_type": "code",
   "execution_count": 9,
   "metadata": {},
   "outputs": [
    {
     "name": "stdout",
     "output_type": "stream",
     "text": [
      "Mean Absolute Error (Baseline): $485739.85\n"
     ]
    }
   ],
   "source": [
    "# get median price error\n",
    "\n",
    "baseline_preds = np.median(y_test)\n",
    "\n",
    "baseline_errors = round(np.mean(abs(baseline_preds - y_test)),2)\n",
    "\n",
    "print(\"Mean Absolute Error (Baseline): ${d}\".format(d=baseline_errors))"
   ]
  },
  {
   "cell_type": "markdown",
   "metadata": {},
   "source": [
    "#### Run Initial Random Forest Regressor"
   ]
  },
  {
   "cell_type": "code",
   "execution_count": 10,
   "metadata": {},
   "outputs": [
    {
     "data": {
      "text/plain": [
       "RandomForestRegressor(bootstrap=True, ccp_alpha=0.0, criterion='mse',\n",
       "                      max_depth=10, max_features='auto', max_leaf_nodes=None,\n",
       "                      max_samples=None, min_impurity_decrease=0.0,\n",
       "                      min_impurity_split=None, min_samples_leaf=1,\n",
       "                      min_samples_split=2, min_weight_fraction_leaf=0.0,\n",
       "                      n_estimators=100, n_jobs=None, oob_score=False,\n",
       "                      random_state=42, verbose=0, warm_start=False)"
      ]
     },
     "execution_count": 10,
     "metadata": {},
     "output_type": "execute_result"
    }
   ],
   "source": [
    "from sklearn.ensemble import RandomForestRegressor\n",
    "\n",
    "# Instantiate model with default values decision trees\n",
    "randomforest = RandomForestRegressor(n_estimators = 100, max_depth = 10, random_state = 42)\n",
    "\n",
    "\n",
    "# Train the model on training data\n",
    "randomforest.fit(X_train, y_train)"
   ]
  },
  {
   "cell_type": "markdown",
   "metadata": {},
   "source": [
    "#### Predict and Estimate Results"
   ]
  },
  {
   "cell_type": "code",
   "execution_count": 11,
   "metadata": {},
   "outputs": [],
   "source": [
    "# predict price based on trained model\n",
    "y_pred = randomforest.predict(X_test)"
   ]
  },
  {
   "cell_type": "code",
   "execution_count": 12,
   "metadata": {},
   "outputs": [
    {
     "name": "stdout",
     "output_type": "stream",
     "text": [
      "Mean Accuracy(Training): 0.9579185771822071\n",
      "Mean Accuracy(Testing): 0.837605960188698\n"
     ]
    }
   ],
   "source": [
    "print(\"Mean Accuracy(Training): {d}\".format(d = randomforest.score(X_train,y_train)))\n",
    "print(\"Mean Accuracy(Testing): {d}\".format(d = randomforest.score(X_test,y_test)))"
   ]
  },
  {
   "cell_type": "markdown",
   "metadata": {},
   "source": [
    "The training data has an accuracy of 97%, but the testing data accuracy goes down. This could suggest overfitting of the training data. "
   ]
  },
  {
   "cell_type": "code",
   "execution_count": 13,
   "metadata": {},
   "outputs": [
    {
     "name": "stdout",
     "output_type": "stream",
     "text": [
      "Mean Absolute Error: 129338.74704593819\n",
      "Root Mean Squared Error: 366855.16132501746\n",
      "R^2 Score: 0.9152081512905673\n"
     ]
    }
   ],
   "source": [
    "from sklearn import metrics\n",
    "\n",
    "# print metrics: Mean Absolute Error, Root Mean Squared Error, R2\n",
    "print('Mean Absolute Error:', metrics.mean_absolute_error(y_test, y_pred))\n",
    "print('Root Mean Squared Error:', np.sqrt(metrics.mean_squared_error(y_test, y_pred)))\n",
    "print('R^2 Score:', np.sqrt(metrics.r2_score(y_test, y_pred)))    "
   ]
  },
  {
   "cell_type": "markdown",
   "metadata": {},
   "source": [
    "The mean absolute error indicates that on average, the model predicts homes within $121,749."
   ]
  },
  {
   "cell_type": "code",
   "execution_count": 14,
   "metadata": {},
   "outputs": [
    {
     "name": "stdout",
     "output_type": "stream",
     "text": [
      "Mean Error Percentage: 97.22%\n"
     ]
    }
   ],
   "source": [
    "errors = (y_pred - y_test)\n",
    "\n",
    "# Calculate mean absolute percentage error (MAPE)\n",
    "mape = 100 * (errors / y_test)\n",
    "\n",
    "# Calculate and display accuracy\n",
    "\n",
    "accuracy = 100 - np.mean(mape)\n",
    "print('Mean Error Percentage: {d}%'.format(d=round(accuracy, 2)))"
   ]
  },
  {
   "cell_type": "markdown",
   "metadata": {},
   "source": [
    "Our mean error percentage ended up at about 97% for our model."
   ]
  },
  {
   "cell_type": "markdown",
   "metadata": {},
   "source": [
    "#### Feature Importance"
   ]
  },
  {
   "cell_type": "code",
   "execution_count": 15,
   "metadata": {},
   "outputs": [
    {
     "name": "stdout",
     "output_type": "stream",
     "text": [
      "Variable: SQUARE FEET     Importance: 0.57\n",
      "Variable: LONGITUDE       Importance: 0.15\n",
      "Variable: LOT SIZE        Importance: 0.06\n",
      "Variable: NEIGHBORHOOD_Manhattan Beach Importance: 0.06\n",
      "Variable: YEAR BUILT      Importance: 0.03\n",
      "Variable: LATITUDE        Importance: 0.03\n",
      "Variable: ZIP OR POSTAL CODE Importance: 0.01\n",
      "Variable: BEDS            Importance: 0.01\n",
      "Variable: BATHS           Importance: 0.01\n",
      "Variable: DAYS ON MARKET  Importance: 0.01\n",
      "Variable: HOA/MONTH       Importance: 0.01\n",
      "Variable: SOLD_WEEK       Importance: 0.01\n",
      "Variable: SOLD_DAY        Importance: 0.01\n",
      "Variable: NEIGHBORHOOD_Hermosa Beach Importance: 0.01\n",
      "Variable: NEIGHBORHOOD_Redondo Beach Importance: 0.01\n",
      "Variable: SOLD_YEAR       Importance: 0.0\n",
      "Variable: SOLD_MONTH      Importance: 0.0\n",
      "Variable: PROPERTY TYPE_Condo/Co-op Importance: 0.0\n",
      "Variable: PROPERTY TYPE_Mobile/Manufactured Home Importance: 0.0\n",
      "Variable: PROPERTY TYPE_Single Family Residential Importance: 0.0\n",
      "Variable: PROPERTY TYPE_Townhouse Importance: 0.0\n",
      "Variable: NEIGHBORHOOD_Alondra Park Importance: 0.0\n",
      "Variable: NEIGHBORHOOD_Carson Importance: 0.0\n",
      "Variable: NEIGHBORHOOD_Del Aire Importance: 0.0\n",
      "Variable: NEIGHBORHOOD_El Segundo Importance: 0.0\n",
      "Variable: NEIGHBORHOOD_Florence Importance: 0.0\n",
      "Variable: NEIGHBORHOOD_Gardena Importance: 0.0\n",
      "Variable: NEIGHBORHOOD_Harbor City Importance: 0.0\n",
      "Variable: NEIGHBORHOOD_Harbor Gateway North Importance: 0.0\n",
      "Variable: NEIGHBORHOOD_Harbor Gateway South Importance: 0.0\n",
      "Variable: NEIGHBORHOOD_Hawthorne Importance: 0.0\n",
      "Variable: NEIGHBORHOOD_Inglewood Importance: 0.0\n",
      "Variable: NEIGHBORHOOD_Lawndale Importance: 0.0\n",
      "Variable: NEIGHBORHOOD_Lennox Importance: 0.0\n",
      "Variable: NEIGHBORHOOD_Lomita Importance: 0.0\n",
      "Variable: NEIGHBORHOOD_Los Angeles Importance: 0.0\n",
      "Variable: NEIGHBORHOOD_Palos Verdes Estates Importance: 0.0\n",
      "Variable: NEIGHBORHOOD_Palos Verdes Peninsula Importance: 0.0\n",
      "Variable: NEIGHBORHOOD_Playa Del Rey Importance: 0.0\n",
      "Variable: NEIGHBORHOOD_Rancho Palos Verdes Importance: 0.0\n",
      "Variable: NEIGHBORHOOD_Rolling Hills Importance: 0.0\n",
      "Variable: NEIGHBORHOOD_Rolling Hills Estates Importance: 0.0\n",
      "Variable: NEIGHBORHOOD_San Pedro Importance: 0.0\n",
      "Variable: NEIGHBORHOOD_Torrance Importance: 0.0\n",
      "Variable: NEIGHBORHOOD_Watts Importance: 0.0\n",
      "Variable: NEIGHBORHOOD_Westchester Importance: 0.0\n",
      "Variable: NEIGHBORHOOD_Wilmington Importance: 0.0\n",
      "Variable: SEASON_Fall     Importance: 0.0\n",
      "Variable: SEASON_Spring   Importance: 0.0\n",
      "Variable: SEASON_Summer   Importance: 0.0\n",
      "Variable: SEASON_Winter   Importance: 0.0\n"
     ]
    }
   ],
   "source": [
    "# Get numerical feature importances\n",
    "\n",
    "importances = list(randomforest.feature_importances_)\n",
    "\n",
    "# List of tuples with variable and importance\n",
    "feature_importances = [(feature, round(importance, 2)) for feature, importance in zip(X, importances)]\n",
    "\n",
    "# Sort the feature importances by most important first\n",
    "feature_importances = sorted(feature_importances, key = lambda x: x[1], reverse = True)\n",
    "\n",
    "# Print out the feature and importances \n",
    "[print('Variable: {:15} Importance: {}'.format(*pair)) for pair in feature_importances];"
   ]
  },
  {
   "cell_type": "markdown",
   "metadata": {},
   "source": [
    "#### Parameter Tuning: max_depth & n_estimators"
   ]
  },
  {
   "cell_type": "code",
   "execution_count": 16,
   "metadata": {},
   "outputs": [],
   "source": [
    "# TODO Parameter tuning: n_estimators, max_depth"
   ]
  },
  {
   "cell_type": "markdown",
   "metadata": {},
   "source": [
    "### VISUALIZE "
   ]
  },
  {
   "cell_type": "code",
   "execution_count": 17,
   "metadata": {},
   "outputs": [],
   "source": [
    "# TODO: Plot variable importance "
   ]
  },
  {
   "cell_type": "code",
   "execution_count": 18,
   "metadata": {},
   "outputs": [],
   "source": [
    "# TODO: Plot y values over predictions (home prices )"
   ]
  },
  {
   "cell_type": "code",
   "execution_count": null,
   "metadata": {},
   "outputs": [],
   "source": []
  },
  {
   "cell_type": "markdown",
   "metadata": {},
   "source": [
    "## Conclusion"
   ]
  },
  {
   "cell_type": "code",
   "execution_count": 19,
   "metadata": {},
   "outputs": [],
   "source": [
    "# TODO "
   ]
  }
 ],
 "metadata": {
  "kernelspec": {
   "display_name": "Python 3",
   "language": "python",
   "name": "python3"
  },
  "language_info": {
   "codemirror_mode": {
    "name": "ipython",
    "version": 3
   },
   "file_extension": ".py",
   "mimetype": "text/x-python",
   "name": "python",
   "nbconvert_exporter": "python",
   "pygments_lexer": "ipython3",
   "version": "3.7.6"
  }
 },
 "nbformat": 4,
 "nbformat_minor": 4
}
