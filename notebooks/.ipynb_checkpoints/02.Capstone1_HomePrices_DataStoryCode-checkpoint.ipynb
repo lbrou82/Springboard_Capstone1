{
 "cells": [
  {
   "cell_type": "markdown",
   "metadata": {},
   "source": [
    "<h2><center>Predicting Home Values in Los Angeles’ South Bay</center></h2>\n",
    "<h3><center>Springboard | Capstone 1 Data Story Code</center></h3>\n",
    "<h4><center>By: Lauren Broussard</center></h4>\n",
    "\n",
    "---"
   ]
  },
  {
   "cell_type": "markdown",
   "metadata": {},
   "source": [
    "With our cleaned real estate data, let's see what early insights we can find in Los Angeles' South Bay housing market. \n",
    "\n",
    "We will asking the following questions: \n",
    "\n",
    "* What is the **average price of a home in this area**?  \n",
    "* Is there a more popular **month of the year**, or **day of the week** for home sales?  \n",
    "* Do newer homes tend to have **more bedrooms and/or bathrooms**? "
   ]
  },
  {
   "cell_type": "code",
   "execution_count": 1,
   "metadata": {},
   "outputs": [],
   "source": [
    "# import modules\n",
    "import pandas as pd\n",
    "import numpy as np\n",
    "from datetime import datetime \n",
    "\n",
    "import matplotlib.pyplot as plt\n",
    "import seaborn as sns\n",
    "\n",
    "%matplotlib inline"
   ]
  },
  {
   "cell_type": "code",
   "execution_count": 2,
   "metadata": {},
   "outputs": [],
   "source": [
    "sns.set() # set graphs to follow seaborn default view"
   ]
  },
  {
   "cell_type": "code",
   "execution_count": 3,
   "metadata": {},
   "outputs": [],
   "source": [
    "# import cleaned dataframe\n",
    "south_bay = pd.read_csv('../data/processed/south_bay_cleaned.csv', parse_dates=['SOLD DATE'])"
   ]
  },
  {
   "cell_type": "markdown",
   "metadata": {},
   "source": [
    "Let's first look at some basic information about our dataframe and home sales. \n",
    "\n",
    "For instance, there are **13,631 homes in our dataset, and 18 different columns (or features)**. "
   ]
  },
  {
   "cell_type": "code",
   "execution_count": 4,
   "metadata": {},
   "outputs": [
    {
     "data": {
      "text/plain": [
       "(13631, 18)"
      ]
     },
     "execution_count": 4,
     "metadata": {},
     "output_type": "execute_result"
    }
   ],
   "source": [
    "south_bay.shape"
   ]
  },
  {
   "cell_type": "markdown",
   "metadata": {},
   "source": [
    "We will also display the column names below, as well as display a quick view of some of the data.   "
   ]
  },
  {
   "cell_type": "code",
   "execution_count": 5,
   "metadata": {},
   "outputs": [
    {
     "data": {
      "text/plain": [
       "Index(['SOLD DATE', 'PROPERTY TYPE', 'ADDRESS', 'CITY', 'PRICE',\n",
       "       'ZIP OR POSTAL CODE', 'BEDS', 'BATHS', 'SQUARE FEET', 'LOT SIZE',\n",
       "       'YEAR BUILT', 'DAYS ON MARKET', '$/SQUARE FEET', 'HOA/MONTH', 'MLS#',\n",
       "       'LATITUDE', 'LONGITUDE', 'NEIGHBORHOOD'],\n",
       "      dtype='object')"
      ]
     },
     "execution_count": 5,
     "metadata": {},
     "output_type": "execute_result"
    }
   ],
   "source": [
    "# display column names\n",
    "south_bay.columns"
   ]
  },
  {
   "cell_type": "code",
   "execution_count": 6,
   "metadata": {},
   "outputs": [
    {
     "data": {
      "text/html": [
       "<div>\n",
       "<style scoped>\n",
       "    .dataframe tbody tr th:only-of-type {\n",
       "        vertical-align: middle;\n",
       "    }\n",
       "\n",
       "    .dataframe tbody tr th {\n",
       "        vertical-align: top;\n",
       "    }\n",
       "\n",
       "    .dataframe thead th {\n",
       "        text-align: right;\n",
       "    }\n",
       "</style>\n",
       "<table border=\"1\" class=\"dataframe\">\n",
       "  <thead>\n",
       "    <tr style=\"text-align: right;\">\n",
       "      <th></th>\n",
       "      <th>SOLD DATE</th>\n",
       "      <th>PROPERTY TYPE</th>\n",
       "      <th>ADDRESS</th>\n",
       "      <th>CITY</th>\n",
       "      <th>PRICE</th>\n",
       "      <th>ZIP OR POSTAL CODE</th>\n",
       "      <th>BEDS</th>\n",
       "      <th>BATHS</th>\n",
       "      <th>SQUARE FEET</th>\n",
       "      <th>LOT SIZE</th>\n",
       "      <th>YEAR BUILT</th>\n",
       "      <th>DAYS ON MARKET</th>\n",
       "      <th>$/SQUARE FEET</th>\n",
       "      <th>HOA/MONTH</th>\n",
       "      <th>MLS#</th>\n",
       "      <th>LATITUDE</th>\n",
       "      <th>LONGITUDE</th>\n",
       "      <th>NEIGHBORHOOD</th>\n",
       "    </tr>\n",
       "  </thead>\n",
       "  <tbody>\n",
       "    <tr>\n",
       "      <th>0</th>\n",
       "      <td>2019-02-01</td>\n",
       "      <td>Single Family Residential</td>\n",
       "      <td>1641 Bay View Ave</td>\n",
       "      <td>Wilmington</td>\n",
       "      <td>730000</td>\n",
       "      <td>90744</td>\n",
       "      <td>7.0</td>\n",
       "      <td>5.0</td>\n",
       "      <td>3401.0</td>\n",
       "      <td>6651.0</td>\n",
       "      <td>2008</td>\n",
       "      <td>358.0</td>\n",
       "      <td>215.0</td>\n",
       "      <td>0.0</td>\n",
       "      <td>SB18278853</td>\n",
       "      <td>33.796254</td>\n",
       "      <td>-118.271532</td>\n",
       "      <td>Wilmington</td>\n",
       "    </tr>\n",
       "    <tr>\n",
       "      <th>1</th>\n",
       "      <td>2018-05-31</td>\n",
       "      <td>Single Family Residential</td>\n",
       "      <td>1410 W Sandison St</td>\n",
       "      <td>Wilmington</td>\n",
       "      <td>547000</td>\n",
       "      <td>90744</td>\n",
       "      <td>4.0</td>\n",
       "      <td>2.0</td>\n",
       "      <td>1948.0</td>\n",
       "      <td>5399.0</td>\n",
       "      <td>1962</td>\n",
       "      <td>604.0</td>\n",
       "      <td>281.0</td>\n",
       "      <td>0.0</td>\n",
       "      <td>SB18091442</td>\n",
       "      <td>33.792195</td>\n",
       "      <td>-118.280823</td>\n",
       "      <td>Wilmington</td>\n",
       "    </tr>\n",
       "    <tr>\n",
       "      <th>2</th>\n",
       "      <td>2019-10-31</td>\n",
       "      <td>Single Family Residential</td>\n",
       "      <td>1703 N Marine Ave</td>\n",
       "      <td>Wilmington</td>\n",
       "      <td>774000</td>\n",
       "      <td>90744</td>\n",
       "      <td>5.0</td>\n",
       "      <td>3.5</td>\n",
       "      <td>2900.0</td>\n",
       "      <td>5857.0</td>\n",
       "      <td>1940</td>\n",
       "      <td>86.0</td>\n",
       "      <td>267.0</td>\n",
       "      <td>0.0</td>\n",
       "      <td>PW19223929</td>\n",
       "      <td>33.797547</td>\n",
       "      <td>-118.265430</td>\n",
       "      <td>Wilmington</td>\n",
       "    </tr>\n",
       "    <tr>\n",
       "      <th>3</th>\n",
       "      <td>2019-04-15</td>\n",
       "      <td>Townhouse</td>\n",
       "      <td>1702 N Neptune Ave</td>\n",
       "      <td>Wilmington</td>\n",
       "      <td>619900</td>\n",
       "      <td>90744</td>\n",
       "      <td>4.0</td>\n",
       "      <td>2.0</td>\n",
       "      <td>1332.0</td>\n",
       "      <td>6605.0</td>\n",
       "      <td>1941</td>\n",
       "      <td>285.0</td>\n",
       "      <td>465.0</td>\n",
       "      <td>0.0</td>\n",
       "      <td>CV18258904</td>\n",
       "      <td>33.797256</td>\n",
       "      <td>-118.270032</td>\n",
       "      <td>Wilmington</td>\n",
       "    </tr>\n",
       "    <tr>\n",
       "      <th>4</th>\n",
       "      <td>2018-02-12</td>\n",
       "      <td>Townhouse</td>\n",
       "      <td>721 Pioneer Ave</td>\n",
       "      <td>Wilmington</td>\n",
       "      <td>460000</td>\n",
       "      <td>90744</td>\n",
       "      <td>5.0</td>\n",
       "      <td>4.0</td>\n",
       "      <td>1700.0</td>\n",
       "      <td>6402.0</td>\n",
       "      <td>1926</td>\n",
       "      <td>712.0</td>\n",
       "      <td>271.0</td>\n",
       "      <td>0.0</td>\n",
       "      <td>DW18004410</td>\n",
       "      <td>33.779983</td>\n",
       "      <td>-118.248288</td>\n",
       "      <td>Wilmington</td>\n",
       "    </tr>\n",
       "  </tbody>\n",
       "</table>\n",
       "</div>"
      ],
      "text/plain": [
       "   SOLD DATE              PROPERTY TYPE             ADDRESS        CITY  \\\n",
       "0 2019-02-01  Single Family Residential   1641 Bay View Ave  Wilmington   \n",
       "1 2018-05-31  Single Family Residential  1410 W Sandison St  Wilmington   \n",
       "2 2019-10-31  Single Family Residential   1703 N Marine Ave  Wilmington   \n",
       "3 2019-04-15                  Townhouse  1702 N Neptune Ave  Wilmington   \n",
       "4 2018-02-12                  Townhouse     721 Pioneer Ave  Wilmington   \n",
       "\n",
       "    PRICE  ZIP OR POSTAL CODE  BEDS  BATHS  SQUARE FEET  LOT SIZE  YEAR BUILT  \\\n",
       "0  730000               90744   7.0    5.0       3401.0    6651.0        2008   \n",
       "1  547000               90744   4.0    2.0       1948.0    5399.0        1962   \n",
       "2  774000               90744   5.0    3.5       2900.0    5857.0        1940   \n",
       "3  619900               90744   4.0    2.0       1332.0    6605.0        1941   \n",
       "4  460000               90744   5.0    4.0       1700.0    6402.0        1926   \n",
       "\n",
       "   DAYS ON MARKET  $/SQUARE FEET  HOA/MONTH        MLS#   LATITUDE  \\\n",
       "0           358.0          215.0        0.0  SB18278853  33.796254   \n",
       "1           604.0          281.0        0.0  SB18091442  33.792195   \n",
       "2            86.0          267.0        0.0  PW19223929  33.797547   \n",
       "3           285.0          465.0        0.0  CV18258904  33.797256   \n",
       "4           712.0          271.0        0.0  DW18004410  33.779983   \n",
       "\n",
       "    LONGITUDE NEIGHBORHOOD  \n",
       "0 -118.271532   Wilmington  \n",
       "1 -118.280823   Wilmington  \n",
       "2 -118.265430   Wilmington  \n",
       "3 -118.270032   Wilmington  \n",
       "4 -118.248288   Wilmington  "
      ]
     },
     "execution_count": 6,
     "metadata": {},
     "output_type": "execute_result"
    }
   ],
   "source": [
    "# display first 10 rows of data\n",
    "south_bay.head()"
   ]
  },
  {
   "cell_type": "markdown",
   "metadata": {},
   "source": [
    "Lastly, let's look at some descriptive data in the dataframe to see things like mean/maximum, etc. "
   ]
  },
  {
   "cell_type": "code",
   "execution_count": 7,
   "metadata": {},
   "outputs": [
    {
     "data": {
      "text/html": [
       "<div>\n",
       "<style scoped>\n",
       "    .dataframe tbody tr th:only-of-type {\n",
       "        vertical-align: middle;\n",
       "    }\n",
       "\n",
       "    .dataframe tbody tr th {\n",
       "        vertical-align: top;\n",
       "    }\n",
       "\n",
       "    .dataframe thead th {\n",
       "        text-align: right;\n",
       "    }\n",
       "</style>\n",
       "<table border=\"1\" class=\"dataframe\">\n",
       "  <thead>\n",
       "    <tr style=\"text-align: right;\">\n",
       "      <th></th>\n",
       "      <th>PRICE</th>\n",
       "      <th>ZIP OR POSTAL CODE</th>\n",
       "      <th>BEDS</th>\n",
       "      <th>BATHS</th>\n",
       "      <th>SQUARE FEET</th>\n",
       "      <th>LOT SIZE</th>\n",
       "      <th>YEAR BUILT</th>\n",
       "      <th>DAYS ON MARKET</th>\n",
       "      <th>$/SQUARE FEET</th>\n",
       "      <th>HOA/MONTH</th>\n",
       "      <th>LATITUDE</th>\n",
       "      <th>LONGITUDE</th>\n",
       "    </tr>\n",
       "  </thead>\n",
       "  <tbody>\n",
       "    <tr>\n",
       "      <th>count</th>\n",
       "      <td>13631.000000</td>\n",
       "      <td>13631.000000</td>\n",
       "      <td>13631.000000</td>\n",
       "      <td>13631.000000</td>\n",
       "      <td>13631.000000</td>\n",
       "      <td>13631.000000</td>\n",
       "      <td>13631.000000</td>\n",
       "      <td>13631.000000</td>\n",
       "      <td>13631.000000</td>\n",
       "      <td>13631.000000</td>\n",
       "      <td>13631.000000</td>\n",
       "      <td>13631.000000</td>\n",
       "    </tr>\n",
       "    <tr>\n",
       "      <th>mean</th>\n",
       "      <td>999845.591226</td>\n",
       "      <td>90389.468564</td>\n",
       "      <td>3.093463</td>\n",
       "      <td>2.287947</td>\n",
       "      <td>1736.840667</td>\n",
       "      <td>417671.652263</td>\n",
       "      <td>1968.983787</td>\n",
       "      <td>363.717409</td>\n",
       "      <td>556.160093</td>\n",
       "      <td>103.928912</td>\n",
       "      <td>33.852098</td>\n",
       "      <td>-118.342374</td>\n",
       "    </tr>\n",
       "    <tr>\n",
       "      <th>std</th>\n",
       "      <td>917948.996768</td>\n",
       "      <td>274.755041</td>\n",
       "      <td>1.070409</td>\n",
       "      <td>0.975867</td>\n",
       "      <td>892.823825</td>\n",
       "      <td>16324475.355779</td>\n",
       "      <td>24.750502</td>\n",
       "      <td>208.934134</td>\n",
       "      <td>273.005923</td>\n",
       "      <td>171.107201</td>\n",
       "      <td>0.068688</td>\n",
       "      <td>0.049162</td>\n",
       "    </tr>\n",
       "    <tr>\n",
       "      <th>min</th>\n",
       "      <td>10000.000000</td>\n",
       "      <td>70717.000000</td>\n",
       "      <td>0.000000</td>\n",
       "      <td>0.500000</td>\n",
       "      <td>370.000000</td>\n",
       "      <td>4.000000</td>\n",
       "      <td>1887.000000</td>\n",
       "      <td>1.000000</td>\n",
       "      <td>13.000000</td>\n",
       "      <td>0.000000</td>\n",
       "      <td>33.708065</td>\n",
       "      <td>-118.453205</td>\n",
       "    </tr>\n",
       "    <tr>\n",
       "      <th>25%</th>\n",
       "      <td>539000.000000</td>\n",
       "      <td>90260.000000</td>\n",
       "      <td>2.000000</td>\n",
       "      <td>1.750000</td>\n",
       "      <td>1168.000000</td>\n",
       "      <td>5303.500000</td>\n",
       "      <td>1952.000000</td>\n",
       "      <td>180.000000</td>\n",
       "      <td>391.000000</td>\n",
       "      <td>0.000000</td>\n",
       "      <td>33.800090</td>\n",
       "      <td>-118.381939</td>\n",
       "    </tr>\n",
       "    <tr>\n",
       "      <th>50%</th>\n",
       "      <td>730000.000000</td>\n",
       "      <td>90278.000000</td>\n",
       "      <td>3.000000</td>\n",
       "      <td>2.000000</td>\n",
       "      <td>1531.000000</td>\n",
       "      <td>6704.000000</td>\n",
       "      <td>1965.000000</td>\n",
       "      <td>355.000000</td>\n",
       "      <td>507.000000</td>\n",
       "      <td>0.000000</td>\n",
       "      <td>33.851115</td>\n",
       "      <td>-118.344209</td>\n",
       "    </tr>\n",
       "    <tr>\n",
       "      <th>75%</th>\n",
       "      <td>1185000.000000</td>\n",
       "      <td>90505.000000</td>\n",
       "      <td>4.000000</td>\n",
       "      <td>2.750000</td>\n",
       "      <td>2046.000000</td>\n",
       "      <td>17958.000000</td>\n",
       "      <td>1986.000000</td>\n",
       "      <td>554.000000</td>\n",
       "      <td>650.000000</td>\n",
       "      <td>220.000000</td>\n",
       "      <td>33.898501</td>\n",
       "      <td>-118.305189</td>\n",
       "    </tr>\n",
       "    <tr>\n",
       "      <th>max</th>\n",
       "      <td>22650000.000000</td>\n",
       "      <td>90810.000000</td>\n",
       "      <td>22.000000</td>\n",
       "      <td>16.000000</td>\n",
       "      <td>18227.000000</td>\n",
       "      <td>1148807880.000000</td>\n",
       "      <td>2021.000000</td>\n",
       "      <td>730.000000</td>\n",
       "      <td>4757.000000</td>\n",
       "      <td>3083.000000</td>\n",
       "      <td>33.987955</td>\n",
       "      <td>-118.212023</td>\n",
       "    </tr>\n",
       "  </tbody>\n",
       "</table>\n",
       "</div>"
      ],
      "text/plain": [
       "                 PRICE ZIP OR POSTAL CODE          BEDS         BATHS  \\\n",
       "count     13631.000000       13631.000000  13631.000000  13631.000000   \n",
       "mean     999845.591226       90389.468564      3.093463      2.287947   \n",
       "std      917948.996768         274.755041      1.070409      0.975867   \n",
       "min       10000.000000       70717.000000      0.000000      0.500000   \n",
       "25%      539000.000000       90260.000000      2.000000      1.750000   \n",
       "50%      730000.000000       90278.000000      3.000000      2.000000   \n",
       "75%     1185000.000000       90505.000000      4.000000      2.750000   \n",
       "max    22650000.000000       90810.000000     22.000000     16.000000   \n",
       "\n",
       "        SQUARE FEET           LOT SIZE    YEAR BUILT DAYS ON MARKET  \\\n",
       "count  13631.000000       13631.000000  13631.000000   13631.000000   \n",
       "mean    1736.840667      417671.652263   1968.983787     363.717409   \n",
       "std      892.823825    16324475.355779     24.750502     208.934134   \n",
       "min      370.000000           4.000000   1887.000000       1.000000   \n",
       "25%     1168.000000        5303.500000   1952.000000     180.000000   \n",
       "50%     1531.000000        6704.000000   1965.000000     355.000000   \n",
       "75%     2046.000000       17958.000000   1986.000000     554.000000   \n",
       "max    18227.000000  1148807880.000000   2021.000000     730.000000   \n",
       "\n",
       "      $/SQUARE FEET     HOA/MONTH      LATITUDE     LONGITUDE  \n",
       "count  13631.000000  13631.000000  13631.000000  13631.000000  \n",
       "mean     556.160093    103.928912     33.852098   -118.342374  \n",
       "std      273.005923    171.107201      0.068688      0.049162  \n",
       "min       13.000000      0.000000     33.708065   -118.453205  \n",
       "25%      391.000000      0.000000     33.800090   -118.381939  \n",
       "50%      507.000000      0.000000     33.851115   -118.344209  \n",
       "75%      650.000000    220.000000     33.898501   -118.305189  \n",
       "max     4757.000000   3083.000000     33.987955   -118.212023  "
      ]
     },
     "execution_count": 7,
     "metadata": {},
     "output_type": "execute_result"
    }
   ],
   "source": [
    "# describe dataframe without scientific notation\n",
    "south_bay.describe().apply(lambda s: s.apply(lambda x: format(x, 'f')))"
   ]
  },
  {
   "cell_type": "markdown",
   "metadata": {},
   "source": [
    "One thing to note from the table above is that there looks to be a large spread in home prices, with the minimum price at 10,000 and the maximum price at over 22 million."
   ]
  },
  {
   "cell_type": "code",
   "execution_count": 8,
   "metadata": {},
   "outputs": [
    {
     "data": {
      "text/plain": [
       "<matplotlib.axes._subplots.AxesSubplot at 0x7ff8c0dd2b10>"
      ]
     },
     "execution_count": 8,
     "metadata": {},
     "output_type": "execute_result"
    },
    {
     "data": {
      "image/png": "[encoded data removed]",
      "text/plain": [
       "<Figure size 432x288 with 1 Axes>"
      ]
     },
     "metadata": {},
     "output_type": "display_data"
    }
   ],
   "source": [
    "south_bay['PRICE'].plot(kind='box')"
   ]
  },
  {
   "cell_type": "markdown",
   "metadata": {},
   "source": [
    "---"
   ]
  },
  {
   "cell_type": "markdown",
   "metadata": {},
   "source": [
    "### What are prices of homes in this area?"
   ]
  },
  {
   "cell_type": "markdown",
   "metadata": {},
   "source": [
    "We can look at home prices in a number of ways, but for now we'll look at prices in general, and then by property type and neighborhood."
   ]
  },
  {
   "cell_type": "code",
   "execution_count": 9,
   "metadata": {},
   "outputs": [
    {
     "data": {
      "image/png": "[encoded data removed]",
      "text/plain": [
       "<Figure size 432x288 with 1 Axes>"
      ]
     },
     "metadata": {},
     "output_type": "display_data"
    }
   ],
   "source": [
    "# plot histogram of home prices\n",
    "plt.hist(south_bay['PRICE'], bins=150) \n",
    "plt.xlabel('PRICES')\n",
    "plt.ylabel('NUMBER OF PROPERTIES')\n",
    "plt.title('Sales by Home Price')\n",
    "plt.xlim(0,22650000)\n",
    "plt.show()     "
   ]
  },
  {
   "cell_type": "markdown",
   "metadata": {},
   "source": [
    "The histogram above makes it hard to see, as a few of the very large data points make it difficult to see. Let's zoom in a bit. "
   ]
  },
  {
   "cell_type": "markdown",
   "metadata": {},
   "source": [
    "We can see in the zoomed in plot below that most homes are clustered between about 500,000 and 900,000"
   ]
  },
  {
   "cell_type": "code",
   "execution_count": 10,
   "metadata": {},
   "outputs": [
    {
     "data": {
      "image/png": "[encoded data removed]",
      "text/plain": [
       "<Figure size 432x288 with 1 Axes>"
      ]
     },
     "metadata": {},
     "output_type": "display_data"
    }
   ],
   "source": [
    "# plot histogram of home prices zoomed in to a max of 3 million dollars\n",
    "plt.hist(south_bay['PRICE'], bins=150) \n",
    "plt.xlabel('PRICES')\n",
    "plt.ylabel('NUMBEER OF PROPERTIES')\n",
    "plt.title('Sales by Home Prices (up to 3MM)')\n",
    "plt.xlim(0,3000000)\n",
    "plt.show()  "
   ]
  },
  {
   "cell_type": "markdown",
   "metadata": {},
   "source": [
    "Next, we will look at properties by property type. To offset the large variations in price, we will look at the median price instead of mean."
   ]
  },
  {
   "cell_type": "code",
   "execution_count": 12,
   "metadata": {},
   "outputs": [
    {
     "ename": "AttributeError",
     "evalue": "module 'seaborn' has no attribute 'barh'",
     "output_type": "error",
     "traceback": [
      "\u001b[0;31m---------------------------------------------------------------------------\u001b[0m",
      "\u001b[0;31mAttributeError\u001b[0m                            Traceback (most recent call last)",
      "\u001b[0;32m<ipython-input-12-20c86b0e6d53>\u001b[0m in \u001b[0;36m<module>\u001b[0;34m\u001b[0m\n\u001b[1;32m      1\u001b[0m \u001b[0;31m# plot median price, group by property type and price\u001b[0m\u001b[0;34m\u001b[0m\u001b[0;34m\u001b[0m\u001b[0;34m\u001b[0m\u001b[0m\n\u001b[1;32m      2\u001b[0m \u001b[0mprc\u001b[0m \u001b[0;34m=\u001b[0m \u001b[0msouth_bay\u001b[0m\u001b[0;34m.\u001b[0m\u001b[0mgroupby\u001b[0m\u001b[0;34m(\u001b[0m\u001b[0;34m'PROPERTY TYPE'\u001b[0m\u001b[0;34m)\u001b[0m\u001b[0;34m[\u001b[0m\u001b[0;34m'PRICE'\u001b[0m\u001b[0;34m]\u001b[0m\u001b[0;34m.\u001b[0m\u001b[0mmedian\u001b[0m\u001b[0;34m(\u001b[0m\u001b[0;34m)\u001b[0m\u001b[0;34m\u001b[0m\u001b[0;34m\u001b[0m\u001b[0m\n\u001b[0;32m----> 3\u001b[0;31m \u001b[0msns\u001b[0m\u001b[0;34m.\u001b[0m\u001b[0mbarh\u001b[0m\u001b[0;34m(\u001b[0m\u001b[0mprc\u001b[0m\u001b[0;34m)\u001b[0m\u001b[0;34m\u001b[0m\u001b[0;34m\u001b[0m\u001b[0m\n\u001b[0m\u001b[1;32m      4\u001b[0m \u001b[0mplt\u001b[0m\u001b[0;34m.\u001b[0m\u001b[0mtitle\u001b[0m\u001b[0;34m(\u001b[0m\u001b[0;34m'Median Price by Property Type'\u001b[0m\u001b[0;34m)\u001b[0m\u001b[0;34m\u001b[0m\u001b[0;34m\u001b[0m\u001b[0m\n\u001b[1;32m      5\u001b[0m \u001b[0mplt\u001b[0m\u001b[0;34m.\u001b[0m\u001b[0mxlabel\u001b[0m\u001b[0;34m(\u001b[0m\u001b[0;34m'PRICE'\u001b[0m\u001b[0;34m)\u001b[0m\u001b[0;34m\u001b[0m\u001b[0;34m\u001b[0m\u001b[0m\n",
      "\u001b[0;31mAttributeError\u001b[0m: module 'seaborn' has no attribute 'barh'"
     ]
    }
   ],
   "source": [
    "# plot median price, group by property type and price\n",
    "prc = south_bay.groupby('PROPERTY TYPE')['PRICE'].median()\n",
    "sns.barh(prc)\n",
    "plt.title('Median Price by Property Type')\n",
    "plt.xlabel('PRICE')\n",
    "plt.ylabel('PROPERTY TYPE')"
   ]
  },
  {
   "cell_type": "markdown",
   "metadata": {},
   "source": [
    "We can see above that the median price of a single family home appears to be close to the median price for a townhouse. We may explore this further in the future. "
   ]
  },
  {
   "cell_type": "markdown",
   "metadata": {},
   "source": [
    "Let's now look at prices by neighborhood."
   ]
  },
  {
   "cell_type": "code",
   "execution_count": null,
   "metadata": {},
   "outputs": [],
   "source": [
    "# plot median price by neighborhood\n",
    "plt.figure(figsize=(10,6))\n",
    "south_bay.groupby('NEIGHBORHOOD')['PRICE'].median().plot(kind = 'bar')\n",
    "_ = plt.hlines(y=south_bay['PRICE'].median(),xmin=-1,xmax=30,linestyle='--')\n",
    "_ = plt.title('Median Price by Neighborhood')\n",
    "_ = plt.ylabel('PRICE')"
   ]
  },
  {
   "cell_type": "markdown",
   "metadata": {},
   "source": [
    "The neighborhoods with the highest median prices appear to be in Rolling Hills, Manhattan Beach, Palos Verdes Estates, and Hermosa Beach. "
   ]
  },
  {
   "cell_type": "markdown",
   "metadata": {},
   "source": [
    "---"
   ]
  },
  {
   "cell_type": "markdown",
   "metadata": {},
   "source": [
    "### Is there a more popular day of the week or month of the year for home sales? "
   ]
  },
  {
   "cell_type": "markdown",
   "metadata": {},
   "source": [
    "Let's first look at days of the week. "
   ]
  },
  {
   "cell_type": "code",
   "execution_count": null,
   "metadata": {},
   "outputs": [],
   "source": [
    "south_bay['SOLD DATE'].dt.dayofweek.value_counts().sort_index().plot(kind='bar')\n",
    "_ = plt.title('Total Home Sales by Day of Week')\n",
    "_ = plt.ylabel('Number of Sales')\n",
    "_ = plt.xticks(np.arange(7),['Monday','Tuesday','Wednesday','Thursday','Friday','Saturday','Sunday'])"
   ]
  },
  {
   "cell_type": "markdown",
   "metadata": {},
   "source": [
    "Now, we will turn our attention to months of the year. \n",
    "\n",
    "Because our data goes from February 6, 2018 to January 24, 2020, let's split the data evenly to look at 2 comparable years."
   ]
  },
  {
   "cell_type": "code",
   "execution_count": null,
   "metadata": {},
   "outputs": [],
   "source": [
    "# sort dataframe by date and split occurences in half\n",
    "sb_sort = south_bay.sort_values(by=['SOLD DATE'],ascending=True)\n",
    "year1 = sb_sort[:len(sb_sort)//2]\n",
    "year2 = sb_sort[(len(sb_sort)//2):]"
   ]
  },
  {
   "cell_type": "code",
   "execution_count": null,
   "metadata": {},
   "outputs": [],
   "source": [
    "# plot each year's sales by month\n",
    "\n",
    "year1['SOLD DATE'].dt.month.value_counts().sort_index().plot(kind='line')\n",
    "year2['SOLD DATE'].dt.month.value_counts().sort_index().plot(kind='line')\n",
    "south_bay['SOLD DATE'].dt.month.value_counts().sort_index().plot(kind='line')\n",
    "plt.xlim(0,13) # x values start at 0 and end at 13, to see more of graph\n",
    "plt.xticks(np.arange(0,13,1)) # display all months on x-axis\n",
    "plt.legend(['Year1: 2018-2019','Year2: 2019-2020','Total: 2018-2020'])"
   ]
  },
  {
   "cell_type": "markdown",
   "metadata": {},
   "source": [
    "In general, it appears that home sales were highest in July and August, and lowest in the months of January and February. This second observation could be attributed, however, to the timing with which we pulled our data. "
   ]
  },
  {
   "cell_type": "markdown",
   "metadata": {},
   "source": [
    "### Do newer homes tend to have more bedrooms and/or bathrooms? "
   ]
  },
  {
   "cell_type": "markdown",
   "metadata": {},
   "source": [
    "It would be interesting to see whether or not features like bedrooms or bathrooms are increasing with the year the home is built. \n",
    "\n",
    "Let's look at this for single family homes. "
   ]
  },
  {
   "cell_type": "code",
   "execution_count": null,
   "metadata": {},
   "outputs": [],
   "source": [
    "# create dataframe of just single family homes\n",
    "sb_sfh = south_bay[south_bay['PROPERTY TYPE'] == 'Single Family Residential']"
   ]
  },
  {
   "cell_type": "code",
   "execution_count": null,
   "metadata": {},
   "outputs": [],
   "source": [
    "#get median values by year of the number of bedrooms and bathrooms\n",
    "beds = sb_sfh.groupby(sb_sfh['YEAR BUILT'])['BEDS'].median()\n",
    "baths = sb_sfh.groupby(sb_sfh['YEAR BUILT'])['BATHS'].median()"
   ]
  },
  {
   "cell_type": "code",
   "execution_count": null,
   "metadata": {},
   "outputs": [],
   "source": [
    "# plot number of bedrooms over time\n",
    "beds.plot()\n",
    "plt.ylim(0,7)\n",
    "plt.ylabel('Number of Bedrooms')\n",
    "plt.xlabel('Year Built')\n",
    "plt.title('Median Number of Bedrooms by Year Built')\n",
    "\n",
    "#plot number of bathrooms over time\n",
    "baths.plot()\n",
    "plt.ylim(0,7)\n",
    "plt.ylabel('Number')\n",
    "plt.xlabel('Year Built')\n",
    "plt.title('Median Number of Beds/Baths by Year Built')\n",
    "plt.legend(['Bedrooms','Bathrooms'])\n"
   ]
  },
  {
   "cell_type": "markdown",
   "metadata": {},
   "source": [
    "The number of bedrooms and bathrooms both seem to be increasing over time, although it appears that the number of bathrooms has more of an upward trend (albeit a slight one)."
   ]
  },
  {
   "cell_type": "markdown",
   "metadata": {},
   "source": [
    "### Other Insights"
   ]
  },
  {
   "cell_type": "markdown",
   "metadata": {},
   "source": [
    "Finally, let's turn our attention to how all of the features relate to each other. We'll first make a correlations table to look at all of the features together to see if anything sticks out. "
   ]
  },
  {
   "cell_type": "markdown",
   "metadata": {},
   "source": [
    " "
   ]
  },
  {
   "cell_type": "markdown",
   "metadata": {},
   "source": [
    "**Correlations Table**"
   ]
  },
  {
   "cell_type": "code",
   "execution_count": null,
   "metadata": {},
   "outputs": [],
   "source": [
    "# get correlation coefficients\n",
    "corr = south_bay.corr()"
   ]
  },
  {
   "cell_type": "code",
   "execution_count": null,
   "metadata": {},
   "outputs": [],
   "source": [
    "# plot correlations into a heatmap\n",
    "plt.figure(figsize = (16,10))\n",
    "sns.heatmap(corr,fmt = '.01g',annot=True,vmin=-1, vmax=1,cmap=sns.diverging_palette(220,20,as_cmap=True))"
   ]
  },
  {
   "cell_type": "markdown",
   "metadata": {},
   "source": [
    "We would expect that features like price, bedrooms, bathrooms, and square feet of a home are all positively correlated."
   ]
  },
  {
   "cell_type": "markdown",
   "metadata": {},
   "source": [
    "Let's look at a scatter plot of a few of these features. "
   ]
  },
  {
   "cell_type": "code",
   "execution_count": null,
   "metadata": {},
   "outputs": [],
   "source": [
    "# make a scatter plot of bedrooms and bathrooms\n",
    "south_bay.plot.scatter(x='BEDS',y='BATHS',c='r')\n",
    "plt.title('Number of Bedrooms and Bathrooms')"
   ]
  },
  {
   "cell_type": "markdown",
   "metadata": {},
   "source": [
    "As we would expect, the number of bedrooms seem to go up with the number of bathrooms in the property."
   ]
  },
  {
   "cell_type": "code",
   "execution_count": null,
   "metadata": {},
   "outputs": [],
   "source": [
    "# make a scatter plot of price by number of bathrooms\n",
    "south_bay[south_bay['PROPERTY TYPE'] == 'Single Family Residential'].plot.scatter(x='PRICE',y='BATHS',c='r')\n",
    "plt.title('Price by Number of Bathrooms (SFR)')"
   ]
  },
  {
   "cell_type": "markdown",
   "metadata": {},
   "source": [
    "The price of the property also seems to go up with the number of bathrooms. "
   ]
  },
  {
   "cell_type": "markdown",
   "metadata": {},
   "source": [
    " "
   ]
  },
  {
   "cell_type": "markdown",
   "metadata": {},
   "source": [
    "**Future Discovery**"
   ]
  },
  {
   "cell_type": "markdown",
   "metadata": {},
   "source": [
    "The correlation matrix above also showed that there is a moderate negative correlation between longitude and price.  This would make sense, as the further a home is from the beach, the lower the price might be. In the future, it might be interesting to plot a heatmap of prices over a map of this area."
   ]
  },
  {
   "cell_type": "markdown",
   "metadata": {},
   "source": [
    " "
   ]
  }
 ],
 "metadata": {
  "kernelspec": {
   "display_name": "Python 3",
   "language": "python",
   "name": "python3"
  },
  "language_info": {
   "codemirror_mode": {
    "name": "ipython",
    "version": 3
   },
   "file_extension": ".py",
   "mimetype": "text/x-python",
   "name": "python",
   "nbconvert_exporter": "python",
   "pygments_lexer": "ipython3",
   "version": "3.7.6"
  }
 },
 "nbformat": 4,
 "nbformat_minor": 2
}
