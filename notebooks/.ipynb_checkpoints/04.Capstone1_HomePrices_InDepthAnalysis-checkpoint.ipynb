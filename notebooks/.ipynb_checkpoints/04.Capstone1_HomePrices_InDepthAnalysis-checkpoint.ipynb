{
 "cells": [
  {
   "cell_type": "markdown",
   "metadata": {},
   "source": [
    "<h2><center>Predicting Home Values in Los Angeles’ South Bay</center></h2>\n",
    "<h3><center>Springboard | Capstone 1 - In-Depth Analysis</center></h3>\n",
    "<h4><center>By: Lauren Broussard</center></h4>\n",
    "---"
   ]
  },
  {
   "cell_type": "markdown",
   "metadata": {},
   "source": [
    "Using some of our previous findings, we will now use machine learning to see how well we can predict housing prices in the South Bay area. \n",
    "\n",
    "As we are looking at a continuous random variable (as opposed to a discrete variable), we'll look at this as a regression problem. Further, since we already have labeled data (features and housing prices), we'll do a Supervised Learning approach. Additionally, we will try to determine which features are most important in predicting home prices in this area. \n",
    "\n",
    "For this problem, I'll be using Random Forest Regression, an ensemble method that expands on the Decision Tree approach. "
   ]
  },
  {
   "cell_type": "code",
   "execution_count": 1,
   "metadata": {},
   "outputs": [],
   "source": [
    "# import relevant libraries\n",
    "import numpy as np\n",
    "import pandas as pd\n",
    "\n",
    "%matplotlib inline\n",
    "from IPython.display import display\n",
    "import matplotlib.pyplot as plt\n",
    "import seaborn as sns"
   ]
  },
  {
   "cell_type": "code",
   "execution_count": 2,
   "metadata": {},
   "outputs": [],
   "source": [
    "# import south_bay dataset \n",
    "south_bay = pd.read_csv('..data/processed/south_bay_cleaned.csv', parse_dates = ['SOLD DATE'])"
   ]
  },
  {
   "cell_type": "markdown",
   "metadata": {},
   "source": [
    "## Data Preparation and Encoding "
   ]
  },
  {
   "cell_type": "markdown",
   "metadata": {},
   "source": [
    "#### Drop Columns & Set Dates/Seasons"
   ]
  },
  {
   "cell_type": "code",
   "execution_count": 3,
   "metadata": {},
   "outputs": [],
   "source": [
    "# drop address and mls number, as these won't work in model\n",
    "# drop $/square feet as it is based off the price \n",
    "south_bay.drop(['ADDRESS','MLS#','$/SQUARE FEET','CITY'], axis=1,inplace=True)"
   ]
  },
  {
   "cell_type": "markdown",
   "metadata": {},
   "source": [
    "Our 'Sold Date' feature will throw an error if we try to put it in the model, as it's coded as a datetime. We'll break it out into its component parts (year, month, day) as separate columns. Additionally, we'll create a new column called \"Season\" to further investigate the importance of the relationship between time of year and home price. "
   ]
  },
  {
   "cell_type": "code",
   "execution_count": 4,
   "metadata": {},
   "outputs": [],
   "source": [
    "# handle dates \n",
    "\n",
    "# create separate date columns for year, month, week number, day\n",
    "south_bay['SOLD_YEAR'] = south_bay['SOLD DATE'].dt.year\n",
    "south_bay['SOLD_MONTH'] = south_bay['SOLD DATE'].dt.month\n",
    "south_bay['SOLD_WEEK'] = south_bay['SOLD DATE'].dt.week\n",
    "south_bay['SOLD_DAY'] = south_bay['SOLD DATE'].dt.day\n",
    "\n",
    "\n",
    "# add column - seasons to dataset \n",
    "# create dictionary mapping of seasons to months\n",
    "seasons = ['Winter', 'Winter', 'Spring', 'Spring', 'Spring', 'Summer', 'Summer',\\\n",
    "           'Summer', 'Fall', 'Fall', 'Fall', 'Winter']\n",
    "month_to_season = dict(zip(range(1,13), seasons))\n",
    "\n",
    "# map months to seasons and create new column \n",
    "south_bay['SEASON'] = south_bay['SOLD DATE'].dt.month.map(month_to_season) "
   ]
  },
  {
   "cell_type": "code",
   "execution_count": 5,
   "metadata": {},
   "outputs": [],
   "source": [
    "# drop datetime column \n",
    "south_bay.drop(['SOLD DATE'], axis=1,inplace=True)"
   ]
  },
  {
   "cell_type": "markdown",
   "metadata": {},
   "source": [
    "#### One-Hot Encoding"
   ]
  },
  {
   "cell_type": "markdown",
   "metadata": {},
   "source": [
    "We'll use one-hot encoding to change categorical columns to binary values before putting them in the model. "
   ]
  },
  {
   "cell_type": "code",
   "execution_count": 6,
   "metadata": {},
   "outputs": [
    {
     "data": {
      "text/html": [
       "<div>\n",
       "<style scoped>\n",
       "    .dataframe tbody tr th:only-of-type {\n",
       "        vertical-align: middle;\n",
       "    }\n",
       "\n",
       "    .dataframe tbody tr th {\n",
       "        vertical-align: top;\n",
       "    }\n",
       "\n",
       "    .dataframe thead th {\n",
       "        text-align: right;\n",
       "    }\n",
       "</style>\n",
       "<table border=\"1\" class=\"dataframe\">\n",
       "  <thead>\n",
       "    <tr style=\"text-align: right;\">\n",
       "      <th></th>\n",
       "      <th>PROPERTY TYPE_Condo/Co-op</th>\n",
       "      <th>PROPERTY TYPE_Mobile/Manufactured Home</th>\n",
       "      <th>PROPERTY TYPE_Single Family Residential</th>\n",
       "      <th>PROPERTY TYPE_Townhouse</th>\n",
       "      <th>NEIGHBORHOOD_Alondra Park</th>\n",
       "      <th>NEIGHBORHOOD_Carson</th>\n",
       "      <th>NEIGHBORHOOD_Del Aire</th>\n",
       "      <th>NEIGHBORHOOD_El Segundo</th>\n",
       "      <th>NEIGHBORHOOD_Florence</th>\n",
       "      <th>NEIGHBORHOOD_Gardena</th>\n",
       "      <th>...</th>\n",
       "      <th>NEIGHBORHOOD_Rolling Hills Estates</th>\n",
       "      <th>NEIGHBORHOOD_San Pedro</th>\n",
       "      <th>NEIGHBORHOOD_Torrance</th>\n",
       "      <th>NEIGHBORHOOD_Watts</th>\n",
       "      <th>NEIGHBORHOOD_Westchester</th>\n",
       "      <th>NEIGHBORHOOD_Wilmington</th>\n",
       "      <th>SEASON_Fall</th>\n",
       "      <th>SEASON_Spring</th>\n",
       "      <th>SEASON_Summer</th>\n",
       "      <th>SEASON_Winter</th>\n",
       "    </tr>\n",
       "  </thead>\n",
       "  <tbody>\n",
       "    <tr>\n",
       "      <th>0</th>\n",
       "      <td>0</td>\n",
       "      <td>0</td>\n",
       "      <td>1</td>\n",
       "      <td>0</td>\n",
       "      <td>0</td>\n",
       "      <td>0</td>\n",
       "      <td>0</td>\n",
       "      <td>0</td>\n",
       "      <td>0</td>\n",
       "      <td>0</td>\n",
       "      <td>...</td>\n",
       "      <td>0</td>\n",
       "      <td>0</td>\n",
       "      <td>0</td>\n",
       "      <td>0</td>\n",
       "      <td>0</td>\n",
       "      <td>1</td>\n",
       "      <td>0</td>\n",
       "      <td>0</td>\n",
       "      <td>0</td>\n",
       "      <td>1</td>\n",
       "    </tr>\n",
       "    <tr>\n",
       "      <th>1</th>\n",
       "      <td>0</td>\n",
       "      <td>0</td>\n",
       "      <td>1</td>\n",
       "      <td>0</td>\n",
       "      <td>0</td>\n",
       "      <td>0</td>\n",
       "      <td>0</td>\n",
       "      <td>0</td>\n",
       "      <td>0</td>\n",
       "      <td>0</td>\n",
       "      <td>...</td>\n",
       "      <td>0</td>\n",
       "      <td>0</td>\n",
       "      <td>0</td>\n",
       "      <td>0</td>\n",
       "      <td>0</td>\n",
       "      <td>1</td>\n",
       "      <td>0</td>\n",
       "      <td>1</td>\n",
       "      <td>0</td>\n",
       "      <td>0</td>\n",
       "    </tr>\n",
       "    <tr>\n",
       "      <th>2</th>\n",
       "      <td>0</td>\n",
       "      <td>0</td>\n",
       "      <td>1</td>\n",
       "      <td>0</td>\n",
       "      <td>0</td>\n",
       "      <td>0</td>\n",
       "      <td>0</td>\n",
       "      <td>0</td>\n",
       "      <td>0</td>\n",
       "      <td>0</td>\n",
       "      <td>...</td>\n",
       "      <td>0</td>\n",
       "      <td>0</td>\n",
       "      <td>0</td>\n",
       "      <td>0</td>\n",
       "      <td>0</td>\n",
       "      <td>1</td>\n",
       "      <td>1</td>\n",
       "      <td>0</td>\n",
       "      <td>0</td>\n",
       "      <td>0</td>\n",
       "    </tr>\n",
       "    <tr>\n",
       "      <th>3</th>\n",
       "      <td>0</td>\n",
       "      <td>0</td>\n",
       "      <td>0</td>\n",
       "      <td>1</td>\n",
       "      <td>0</td>\n",
       "      <td>0</td>\n",
       "      <td>0</td>\n",
       "      <td>0</td>\n",
       "      <td>0</td>\n",
       "      <td>0</td>\n",
       "      <td>...</td>\n",
       "      <td>0</td>\n",
       "      <td>0</td>\n",
       "      <td>0</td>\n",
       "      <td>0</td>\n",
       "      <td>0</td>\n",
       "      <td>1</td>\n",
       "      <td>0</td>\n",
       "      <td>1</td>\n",
       "      <td>0</td>\n",
       "      <td>0</td>\n",
       "    </tr>\n",
       "    <tr>\n",
       "      <th>4</th>\n",
       "      <td>0</td>\n",
       "      <td>0</td>\n",
       "      <td>0</td>\n",
       "      <td>1</td>\n",
       "      <td>0</td>\n",
       "      <td>0</td>\n",
       "      <td>0</td>\n",
       "      <td>0</td>\n",
       "      <td>0</td>\n",
       "      <td>0</td>\n",
       "      <td>...</td>\n",
       "      <td>0</td>\n",
       "      <td>0</td>\n",
       "      <td>0</td>\n",
       "      <td>0</td>\n",
       "      <td>0</td>\n",
       "      <td>1</td>\n",
       "      <td>0</td>\n",
       "      <td>0</td>\n",
       "      <td>0</td>\n",
       "      <td>1</td>\n",
       "    </tr>\n",
       "  </tbody>\n",
       "</table>\n",
       "<p>5 rows × 37 columns</p>\n",
       "</div>"
      ],
      "text/plain": [
       "   PROPERTY TYPE_Condo/Co-op  PROPERTY TYPE_Mobile/Manufactured Home  \\\n",
       "0                          0                                       0   \n",
       "1                          0                                       0   \n",
       "2                          0                                       0   \n",
       "3                          0                                       0   \n",
       "4                          0                                       0   \n",
       "\n",
       "   PROPERTY TYPE_Single Family Residential  PROPERTY TYPE_Townhouse  \\\n",
       "0                                        1                        0   \n",
       "1                                        1                        0   \n",
       "2                                        1                        0   \n",
       "3                                        0                        1   \n",
       "4                                        0                        1   \n",
       "\n",
       "   NEIGHBORHOOD_Alondra Park  NEIGHBORHOOD_Carson  NEIGHBORHOOD_Del Aire  \\\n",
       "0                          0                    0                      0   \n",
       "1                          0                    0                      0   \n",
       "2                          0                    0                      0   \n",
       "3                          0                    0                      0   \n",
       "4                          0                    0                      0   \n",
       "\n",
       "   NEIGHBORHOOD_El Segundo  NEIGHBORHOOD_Florence  NEIGHBORHOOD_Gardena  ...  \\\n",
       "0                        0                      0                     0  ...   \n",
       "1                        0                      0                     0  ...   \n",
       "2                        0                      0                     0  ...   \n",
       "3                        0                      0                     0  ...   \n",
       "4                        0                      0                     0  ...   \n",
       "\n",
       "   NEIGHBORHOOD_Rolling Hills Estates  NEIGHBORHOOD_San Pedro  \\\n",
       "0                                   0                       0   \n",
       "1                                   0                       0   \n",
       "2                                   0                       0   \n",
       "3                                   0                       0   \n",
       "4                                   0                       0   \n",
       "\n",
       "   NEIGHBORHOOD_Torrance  NEIGHBORHOOD_Watts  NEIGHBORHOOD_Westchester  \\\n",
       "0                      0                   0                         0   \n",
       "1                      0                   0                         0   \n",
       "2                      0                   0                         0   \n",
       "3                      0                   0                         0   \n",
       "4                      0                   0                         0   \n",
       "\n",
       "   NEIGHBORHOOD_Wilmington  SEASON_Fall  SEASON_Spring  SEASON_Summer  \\\n",
       "0                        1            0              0              0   \n",
       "1                        1            0              1              0   \n",
       "2                        1            1              0              0   \n",
       "3                        1            0              1              0   \n",
       "4                        1            0              0              0   \n",
       "\n",
       "   SEASON_Winter  \n",
       "0              1  \n",
       "1              0  \n",
       "2              0  \n",
       "3              0  \n",
       "4              1  \n",
       "\n",
       "[5 rows x 37 columns]"
      ]
     },
     "execution_count": 6,
     "metadata": {},
     "output_type": "execute_result"
    }
   ],
   "source": [
    "# one hot encoding on all categorical variables\n",
    "south_bay_f = pd.get_dummies(south_bay)\n",
    "\n",
    "# Display the first 5 rows of the last columns\n",
    "south_bay_f.iloc[:,15:].head(5)"
   ]
  },
  {
   "cell_type": "markdown",
   "metadata": {},
   "source": [
    "#### Separate Feature Data from Target (Price) Data"
   ]
  },
  {
   "cell_type": "code",
   "execution_count": 7,
   "metadata": {},
   "outputs": [],
   "source": [
    "# split data into target and features \n",
    "X = south_bay_f.drop(['PRICE'],axis=1) # features\n",
    "\n",
    "y = south_bay_f['PRICE'] # target(price)"
   ]
  },
  {
   "cell_type": "code",
   "execution_count": 8,
   "metadata": {},
   "outputs": [],
   "source": [
    "# y = np.log(y)"
   ]
  },
  {
   "cell_type": "markdown",
   "metadata": {},
   "source": [
    "## Random Forest Regression"
   ]
  },
  {
   "cell_type": "markdown",
   "metadata": {},
   "source": [
    "#### Split into Training and Testing Data"
   ]
  },
  {
   "cell_type": "code",
   "execution_count": 9,
   "metadata": {},
   "outputs": [],
   "source": [
    "# split data into training and testing \n",
    "from sklearn.model_selection import train_test_split \n",
    "\n",
    "X_train,X_test,y_train,y_test = train_test_split(X,y,test_size=0.3, random_state=42)"
   ]
  },
  {
   "cell_type": "code",
   "execution_count": 10,
   "metadata": {},
   "outputs": [
    {
     "name": "stdout",
     "output_type": "stream",
     "text": [
      "Shape of training data: (9541, 51)\n",
      "Shape of test data: (4090, 51)\n"
     ]
    }
   ],
   "source": [
    "print(\"Shape of training data:\", X_train.shape)\n",
    "print(\"Shape of test data:\", X_test.shape)"
   ]
  },
  {
   "cell_type": "markdown",
   "metadata": {},
   "source": [
    "#### Establish Baseline"
   ]
  },
  {
   "cell_type": "markdown",
   "metadata": {},
   "source": [
    "If we were to venture a guess to predict housing prices on each property without any other knowledge, we might guess the median home price. We'll set that as our baseline and see if our model can outperform that. "
   ]
  },
  {
   "cell_type": "code",
   "execution_count": 11,
   "metadata": {},
   "outputs": [
    {
     "name": "stdout",
     "output_type": "stream",
     "text": [
      "Mean Absolute Error (Baseline): 485739.85\n"
     ]
    }
   ],
   "source": [
    "# get median price error for test sample\n",
    "baseline_preds = np.median(y_test)\n",
    "\n",
    "baseline_errors = round(np.mean(abs(baseline_preds - y_test)),2)\n",
    "\n",
    "print(\"Mean Absolute Error (Baseline): {d}\".format(d=baseline_errors))"
   ]
  },
  {
   "cell_type": "markdown",
   "metadata": {},
   "source": [
    "#### Run Initial Random Forest Regressor"
   ]
  },
  {
   "cell_type": "code",
   "execution_count": 12,
   "metadata": {},
   "outputs": [],
   "source": [
    "from sklearn.ensemble import RandomForestRegressor\n",
    "\n",
    "# Instantiate model with default values decision trees\n",
    "randomforest = RandomForestRegressor(random_state = 42)\n",
    "\n",
    "\n",
    "# Train the model on training data\n",
    "randomforest.fit(X_train, y_train)\n",
    "\n",
    "# predict price based on trained model\n",
    "y_pred = randomforest.predict(X_test)"
   ]
  },
  {
   "cell_type": "markdown",
   "metadata": {},
   "source": [
    "####  Evaluate Results"
   ]
  },
  {
   "cell_type": "code",
   "execution_count": 13,
   "metadata": {},
   "outputs": [
    {
     "name": "stdout",
     "output_type": "stream",
     "text": [
      "Mean Absolute Error: 120915.30442705787\n",
      "Root Mean Squared Error: 363500.5653406129\n",
      "R^2 Score: 0.8405623076811706\n"
     ]
    }
   ],
   "source": [
    "from sklearn import metrics\n",
    "\n",
    "original_mae = metrics.mean_absolute_error(y_test, y_pred)\n",
    "original_rmse = metrics.mean_squared_error(y_test, y_pred,squared=False)\n",
    "original_r2 =  metrics.r2_score(y_test, y_pred)\n",
    "\n",
    "# print metrics: Mean Absolute Error, Root Mean Squared Error, R2\n",
    "print('Mean Absolute Error:', metrics.mean_absolute_error(y_test, y_pred))\n",
    "print('Root Mean Squared Error:', metrics.mean_squared_error(y_test, y_pred,squared=False))\n",
    "print('R^2 Score:', metrics.r2_score(y_test, y_pred))"
   ]
  },
  {
   "cell_type": "markdown",
   "metadata": {},
   "source": [
    "The mean absolute error indicates that on average, the model predicts homes within about $120,915. This is better than our baseline, but let's see if we can do better. \n",
    "\n",
    "Our R<sup>2</sup> score is pretty good at 0.841."
   ]
  },
  {
   "cell_type": "code",
   "execution_count": 14,
   "metadata": {},
   "outputs": [
    {
     "name": "stdout",
     "output_type": "stream",
     "text": [
      "Mean Accuracy(Training): 0.9728876076911653\n",
      "Mean Accuracy(Testing): 0.8405623076811707\n"
     ]
    }
   ],
   "source": [
    "print(\"Mean Accuracy(Training): {d}\".format(d = randomforest.score(X_train,y_train)))\n",
    "print(\"Mean Accuracy(Testing): {d}\".format(d = randomforest.score(X_test,y_test)))"
   ]
  },
  {
   "cell_type": "markdown",
   "metadata": {},
   "source": [
    "The training data has an accuracy of 97%, but the accuracy goes down to 0.841 with the testing data. This could suggest some overfitting of the training data. "
   ]
  },
  {
   "cell_type": "markdown",
   "metadata": {},
   "source": [
    "Let's look at a scatter plot to see how well we fit the testing data to our predictions. "
   ]
  },
  {
   "cell_type": "code",
   "execution_count": 15,
   "metadata": {},
   "outputs": [
    {
     "data": {
      "image/png": "[encoded data removed]",
      "text/plain": [
       "<Figure size 864x576 with 1 Axes>"
      ]
     },
     "metadata": {
      "needs_background": "light"
     },
     "output_type": "display_data"
    }
   ],
   "source": [
    "# Plot y_test values vs y_pred values\n",
    "plt.figure(figsize=(12,8))\n",
    "sns.regplot(y_pred,y_test)\n",
    "plt.xlabel('Predicted Prices')\n",
    "plt.ylabel('Actual Prices')\n",
    "plt.title(\"Actual vs Predicted Prices (Original Model)\")\n",
    "plt.show()"
   ]
  },
  {
   "cell_type": "markdown",
   "metadata": {},
   "source": [
    "We will try to improve the model with parameter tuning and feature selection. "
   ]
  },
  {
   "cell_type": "markdown",
   "metadata": {},
   "source": [
    "## Parameter Tuning & Feature Importance"
   ]
  },
  {
   "cell_type": "markdown",
   "metadata": {},
   "source": [
    "#### Parameter Tuning: max_depth, n_estimators"
   ]
  },
  {
   "cell_type": "code",
   "execution_count": 16,
   "metadata": {},
   "outputs": [
    {
     "data": {
      "text/plain": [
       "'\\n# parameter tuning with randomizedsearchcv\\n\\n%time\\n# Parameter tuning: n_estimators, max_depth, max_features\\nfrom sklearn.model_selection import RandomizedSearchCV\\n\\n# set up parameter ranges\\nn_estimators = np.arange(50,700,50)\\n\\n# Maximum number of levels in tree\\nmax_depth = np.arange(5,50,10)\\n\\n\\n# set up grid of three parameters\\nparam_grid = {\\'max_depth\\': max_depth, \\'n_estimators\\': n_estimators}\\n\\nprint(param_grid)\\n\\n\\nrf = RandomForestRegressor(random_state=42)\\n\\nrf_cv = RandomizedSearchCV(rf,param_grid, random_state = 42)\\n\\n\\nrf_cv.fit(X_train,y_train)\\n\\n\\nbest_params = rf_cv.best_params_\\n\\nbest_ne = best_params.get(\\'n_estimators\\')\\nbest_max_f = best_params.get(\\'max_features\\')\\nbest_max_d = best_params.get(\\'max_depth\\')\\n\\n\\n\\n# get best parameters\\nprint(\"The best parameters are:\", best_params)\\n'"
      ]
     },
     "execution_count": 16,
     "metadata": {},
     "output_type": "execute_result"
    }
   ],
   "source": [
    "\n",
    "'''\n",
    "# parameter tuning with randomizedsearchcv\n",
    "\n",
    "%time\n",
    "# Parameter tuning: n_estimators, max_depth, max_features\n",
    "from sklearn.model_selection import RandomizedSearchCV\n",
    "\n",
    "# set up parameter ranges\n",
    "n_estimators = np.arange(50,700,50)\n",
    "\n",
    "# Maximum number of levels in tree\n",
    "max_depth = np.arange(5,50,10)\n",
    "\n",
    "\n",
    "# set up grid of three parameters\n",
    "param_grid = {'max_depth': max_depth, 'n_estimators': n_estimators}\n",
    "\n",
    "print(param_grid)\n",
    "\n",
    "\n",
    "rf = RandomForestRegressor(random_state=42)\n",
    "\n",
    "rf_cv = RandomizedSearchCV(rf,param_grid, random_state = 42)\n",
    "\n",
    "\n",
    "rf_cv.fit(X_train,y_train)\n",
    "\n",
    "\n",
    "best_params = rf_cv.best_params_\n",
    "\n",
    "best_ne = best_params.get('n_estimators')\n",
    "best_max_f = best_params.get('max_features')\n",
    "best_max_d = best_params.get('max_depth')\n",
    "\n",
    "\n",
    "\n",
    "# get best parameters\n",
    "print(\"The best parameters are:\", best_params)\n",
    "'''"
   ]
  },
  {
   "cell_type": "markdown",
   "metadata": {},
   "source": [
    "We'll look to see if we can tune the two parameters for n_estimators and max_depth."
   ]
  },
  {
   "cell_type": "code",
   "execution_count": 17,
   "metadata": {},
   "outputs": [
    {
     "name": "stdout",
     "output_type": "stream",
     "text": [
      "Best value for n_estimators: 75\n",
      "Best score: 0.9776904273088738\n"
     ]
    }
   ],
   "source": [
    "# tune n_estimators\n",
    "# set up parameter ranges to search over\n",
    "ne_values = list(np.arange(25,500,25))\n",
    "\n",
    "# your turn\n",
    "highest_score = 0\n",
    "best_value = 0\n",
    "\n",
    "for value in ne_values:\n",
    "    reg = RandomForestRegressor(n_estimators=value)\n",
    "    reg.fit(X_test,y_test)\n",
    "    score = reg.score(X_test, y_test)\n",
    "    if score > highest_score:\n",
    "        highest_score = score\n",
    "        best_value = value\n",
    "print(\"Best value for {}: {}\".format('n_estimators',best_value))\n",
    "print(\"Best score: {}\".format(score))\n",
    "\n",
    "best_n_estimator = best_value"
   ]
  },
  {
   "cell_type": "code",
   "execution_count": 18,
   "metadata": {},
   "outputs": [
    {
     "name": "stdout",
     "output_type": "stream",
     "text": [
      "Best value for max_depth: 25\n",
      "Best score: 0.7938310298063549\n"
     ]
    }
   ],
   "source": [
    "# tune max depth\n",
    "md_values = list(np.arange(5,30,5))\n",
    "\n",
    "highest_score = 0\n",
    "best_value = 0\n",
    "\n",
    "for value in md_values:\n",
    "    reg = RandomForestRegressor(max_depth=value)\n",
    "    reg.fit(X_test,y_test)\n",
    "    score = reg.score(X_train, y_train)\n",
    "    if score > highest_score:\n",
    "        highest_score = score\n",
    "        best_value = value\n",
    "print(\"Best value for {}: {}\".format('max_depth',best_value))\n",
    "print(\"Best score: {}\".format(score))\n",
    "\n",
    "best_max_depth = best_value"
   ]
  },
  {
   "cell_type": "markdown",
   "metadata": {},
   "source": [
    "#### Feature Importance"
   ]
  },
  {
   "cell_type": "markdown",
   "metadata": {},
   "source": [
    "Before rerunning the model, we'll turn our attention to feature importance. Below we'll display the top 20 important features to the original model, and its cumulative importance in explaining the model. "
   ]
  },
  {
   "cell_type": "code",
   "execution_count": 19,
   "metadata": {},
   "outputs": [
    {
     "data": {
      "text/html": [
       "<div>\n",
       "<style scoped>\n",
       "    .dataframe tbody tr th:only-of-type {\n",
       "        vertical-align: middle;\n",
       "    }\n",
       "\n",
       "    .dataframe tbody tr th {\n",
       "        vertical-align: top;\n",
       "    }\n",
       "\n",
       "    .dataframe thead th {\n",
       "        text-align: right;\n",
       "    }\n",
       "</style>\n",
       "<table border=\"1\" class=\"dataframe\">\n",
       "  <thead>\n",
       "    <tr style=\"text-align: right;\">\n",
       "      <th></th>\n",
       "      <th>Importance</th>\n",
       "      <th>Cumul_Imp</th>\n",
       "    </tr>\n",
       "  </thead>\n",
       "  <tbody>\n",
       "    <tr>\n",
       "      <th>SQUARE FEET</th>\n",
       "      <td>0.555375</td>\n",
       "      <td>0.555375</td>\n",
       "    </tr>\n",
       "    <tr>\n",
       "      <th>LONGITUDE</th>\n",
       "      <td>0.146518</td>\n",
       "      <td>0.701893</td>\n",
       "    </tr>\n",
       "    <tr>\n",
       "      <th>LOT SIZE</th>\n",
       "      <td>0.066328</td>\n",
       "      <td>0.768221</td>\n",
       "    </tr>\n",
       "    <tr>\n",
       "      <th>NEIGHBORHOOD_Manhattan Beach</th>\n",
       "      <td>0.057531</td>\n",
       "      <td>0.825752</td>\n",
       "    </tr>\n",
       "    <tr>\n",
       "      <th>LATITUDE</th>\n",
       "      <td>0.032037</td>\n",
       "      <td>0.857789</td>\n",
       "    </tr>\n",
       "    <tr>\n",
       "      <th>YEAR BUILT</th>\n",
       "      <td>0.031089</td>\n",
       "      <td>0.888878</td>\n",
       "    </tr>\n",
       "    <tr>\n",
       "      <th>HOA/MONTH</th>\n",
       "      <td>0.012745</td>\n",
       "      <td>0.901624</td>\n",
       "    </tr>\n",
       "    <tr>\n",
       "      <th>ZIP OR POSTAL CODE</th>\n",
       "      <td>0.012513</td>\n",
       "      <td>0.914137</td>\n",
       "    </tr>\n",
       "    <tr>\n",
       "      <th>NEIGHBORHOOD_Hermosa Beach</th>\n",
       "      <td>0.011445</td>\n",
       "      <td>0.925582</td>\n",
       "    </tr>\n",
       "    <tr>\n",
       "      <th>SOLD_DAY</th>\n",
       "      <td>0.010528</td>\n",
       "      <td>0.936110</td>\n",
       "    </tr>\n",
       "    <tr>\n",
       "      <th>DAYS ON MARKET</th>\n",
       "      <td>0.009452</td>\n",
       "      <td>0.945562</td>\n",
       "    </tr>\n",
       "    <tr>\n",
       "      <th>BATHS</th>\n",
       "      <td>0.009143</td>\n",
       "      <td>0.954704</td>\n",
       "    </tr>\n",
       "    <tr>\n",
       "      <th>SOLD_WEEK</th>\n",
       "      <td>0.008302</td>\n",
       "      <td>0.963006</td>\n",
       "    </tr>\n",
       "    <tr>\n",
       "      <th>NEIGHBORHOOD_Redondo Beach</th>\n",
       "      <td>0.006825</td>\n",
       "      <td>0.969831</td>\n",
       "    </tr>\n",
       "    <tr>\n",
       "      <th>BEDS</th>\n",
       "      <td>0.006245</td>\n",
       "      <td>0.976076</td>\n",
       "    </tr>\n",
       "    <tr>\n",
       "      <th>PROPERTY TYPE_Single Family Residential</th>\n",
       "      <td>0.004386</td>\n",
       "      <td>0.980462</td>\n",
       "    </tr>\n",
       "    <tr>\n",
       "      <th>SOLD_MONTH</th>\n",
       "      <td>0.003944</td>\n",
       "      <td>0.984406</td>\n",
       "    </tr>\n",
       "    <tr>\n",
       "      <th>SEASON_Winter</th>\n",
       "      <td>0.003705</td>\n",
       "      <td>0.988110</td>\n",
       "    </tr>\n",
       "    <tr>\n",
       "      <th>PROPERTY TYPE_Mobile/Manufactured Home</th>\n",
       "      <td>0.002714</td>\n",
       "      <td>0.990824</td>\n",
       "    </tr>\n",
       "    <tr>\n",
       "      <th>SEASON_Spring</th>\n",
       "      <td>0.002016</td>\n",
       "      <td>0.992841</td>\n",
       "    </tr>\n",
       "  </tbody>\n",
       "</table>\n",
       "</div>"
      ],
      "text/plain": [
       "                                         Importance  Cumul_Imp\n",
       "SQUARE FEET                                0.555375   0.555375\n",
       "LONGITUDE                                  0.146518   0.701893\n",
       "LOT SIZE                                   0.066328   0.768221\n",
       "NEIGHBORHOOD_Manhattan Beach               0.057531   0.825752\n",
       "LATITUDE                                   0.032037   0.857789\n",
       "YEAR BUILT                                 0.031089   0.888878\n",
       "HOA/MONTH                                  0.012745   0.901624\n",
       "ZIP OR POSTAL CODE                         0.012513   0.914137\n",
       "NEIGHBORHOOD_Hermosa Beach                 0.011445   0.925582\n",
       "SOLD_DAY                                   0.010528   0.936110\n",
       "DAYS ON MARKET                             0.009452   0.945562\n",
       "BATHS                                      0.009143   0.954704\n",
       "SOLD_WEEK                                  0.008302   0.963006\n",
       "NEIGHBORHOOD_Redondo Beach                 0.006825   0.969831\n",
       "BEDS                                       0.006245   0.976076\n",
       "PROPERTY TYPE_Single Family Residential    0.004386   0.980462\n",
       "SOLD_MONTH                                 0.003944   0.984406\n",
       "SEASON_Winter                              0.003705   0.988110\n",
       "PROPERTY TYPE_Mobile/Manufactured Home     0.002714   0.990824\n",
       "SEASON_Spring                              0.002016   0.992841"
      ]
     },
     "execution_count": 19,
     "metadata": {},
     "output_type": "execute_result"
    }
   ],
   "source": [
    "# create function to display df of top 10 most important features\n",
    "def feat_importance(randomforest,X_train):\n",
    "    importance = randomforest.feature_importances_\n",
    "    importance = pd.DataFrame(importance,index=X_train.columns,columns=[\"Importance\"])\n",
    "    return importance.sort_values(by=['Importance'],ascending=False)\n",
    "\n",
    "# call function on new model and training data\n",
    "importance = feat_importance(randomforest,X_train)\n",
    "importance[\"Cumul_Imp\"] = np.cumsum(importance.Importance)\n",
    "importance[:20]"
   ]
  },
  {
   "cell_type": "code",
   "execution_count": 20,
   "metadata": {},
   "outputs": [
    {
     "data": {
      "image/png": "[encoded data removed]",
      "text/plain": [
       "<Figure size 864x576 with 1 Axes>"
      ]
     },
     "metadata": {
      "needs_background": "light"
     },
     "output_type": "display_data"
    }
   ],
   "source": [
    "# set threshold for feature importance\n",
    "cf_threshold = 0.925\n",
    "subset_x = importance.Importance[importance.Cumul_Imp <= cf_threshold].min()\n",
    "\n",
    "# plot top important features \n",
    "_ = plt.figure(figsize=(12,8))\n",
    "_ = plt.vlines(x=subset_x,ymin=-10,ymax=30,linestyle='--',color='red')\n",
    "_ = plt.barh(importance[:20].index, importance[:20].Importance)\n",
    "_ = plt.title('Top 20 Important Features: Home Prices')\n",
    "_ = plt.xlabel('Percent')"
   ]
  },
  {
   "cell_type": "markdown",
   "metadata": {},
   "source": [
    "#### Rerun Model with Optimized Parameters and Most Important Features"
   ]
  },
  {
   "cell_type": "markdown",
   "metadata": {},
   "source": [
    "Let's rerun the model with the tuned parameters and most important features. \n",
    "\n",
    "First, we'll subset our training and test feature data with the features we established as most important above. "
   ]
  },
  {
   "cell_type": "code",
   "execution_count": 21,
   "metadata": {},
   "outputs": [
    {
     "name": "stdout",
     "output_type": "stream",
     "text": [
      "There are 8 features that explain up to 0.925% of the model.\n"
     ]
    }
   ],
   "source": [
    "# create list of important features \n",
    "important_features = list(importance[importance.Cumul_Imp <= cf_threshold].index)\n",
    "\n",
    "# print count of important features\n",
    "print(\"There are {} features that explain up to {}% of the model.\".format(len(important_features),cf_threshold))\n",
    "\n",
    "# get subset of training and testing data for new smaller set of features  \n",
    "X_train_important = X_train[important_features]\n",
    "X_test_important = X_test[important_features]"
   ]
  },
  {
   "cell_type": "markdown",
   "metadata": {},
   "source": [
    "Then, we'll rerun our model. "
   ]
  },
  {
   "cell_type": "code",
   "execution_count": 22,
   "metadata": {},
   "outputs": [],
   "source": [
    "# create new Random Forest regressor with new parameters\n",
    "#randomforest = RandomForestRegressor(n_estimators = best_ne, max_features = best_max_f \\\n",
    "#                                     max_depth = best_max_d, random_state = 42)\n",
    "\n",
    "randomforest = RandomForestRegressor(n_estimators = best_n_estimator, max_depth = best_max_depth, random_state = 42)\n",
    "\n",
    "\n",
    "# train the model with shorter list of features\n",
    "randomforest.fit(X_train_important, y_train)\n",
    "\n",
    "# predict on test data\n",
    "y_pred2 = randomforest.predict(X_test_important)"
   ]
  },
  {
   "cell_type": "markdown",
   "metadata": {},
   "source": [
    "#### Updated Evaluation Scores"
   ]
  },
  {
   "cell_type": "code",
   "execution_count": 23,
   "metadata": {},
   "outputs": [
    {
     "name": "stdout",
     "output_type": "stream",
     "text": [
      "Mean Absolute Error: 122161.61142239257\n",
      "Root Mean Squared Error: 356460.91634192277\n",
      "R^2 Score: 0.8466779360432368\n"
     ]
    }
   ],
   "source": [
    "updated_mae = metrics.mean_absolute_error(y_test, y_pred2)\n",
    "updated_rmse = metrics.mean_squared_error(y_test, y_pred2,squared=False)\n",
    "updated_r2 = metrics.r2_score(y_test, y_pred2)\n",
    "\n",
    "# print metrics: Mean Absolute Error, Root Mean Squared Error, R2\n",
    "print('Mean Absolute Error:', updated_mae)\n",
    "print('Root Mean Squared Error:', updated_rmse)\n",
    "print('R^2 Score:', updated_r2)"
   ]
  },
  {
   "cell_type": "markdown",
   "metadata": {},
   "source": [
    "### Visualize Results"
   ]
  },
  {
   "cell_type": "code",
   "execution_count": 24,
   "metadata": {},
   "outputs": [],
   "source": [
    "# plot accuracy scores from first to second model \n",
    "models = pd.DataFrame({'model': ['original', 'updated'], \n",
    "                                 'mean absolute error':  [original_mae, updated_mae],\n",
    "                                 'root mean squared error': [original_rmse, updated_rmse],\n",
    "                                 'r-square score': [original_r2, updated_r2]})\n",
    "\n"
   ]
  },
  {
   "cell_type": "code",
   "execution_count": 25,
   "metadata": {},
   "outputs": [
    {
     "data": {
      "text/html": [
       "<div>\n",
       "<style scoped>\n",
       "    .dataframe tbody tr th:only-of-type {\n",
       "        vertical-align: middle;\n",
       "    }\n",
       "\n",
       "    .dataframe tbody tr th {\n",
       "        vertical-align: top;\n",
       "    }\n",
       "\n",
       "    .dataframe thead th {\n",
       "        text-align: right;\n",
       "    }\n",
       "</style>\n",
       "<table border=\"1\" class=\"dataframe\">\n",
       "  <thead>\n",
       "    <tr style=\"text-align: right;\">\n",
       "      <th>model</th>\n",
       "      <th>original</th>\n",
       "      <th>updated</th>\n",
       "      <th>difference</th>\n",
       "    </tr>\n",
       "  </thead>\n",
       "  <tbody>\n",
       "    <tr>\n",
       "      <th>mean absolute error</th>\n",
       "      <td>120915</td>\n",
       "      <td>122162</td>\n",
       "      <td>1246.31</td>\n",
       "    </tr>\n",
       "    <tr>\n",
       "      <th>root mean squared error</th>\n",
       "      <td>363501</td>\n",
       "      <td>356461</td>\n",
       "      <td>-7039.65</td>\n",
       "    </tr>\n",
       "    <tr>\n",
       "      <th>r-square score</th>\n",
       "      <td>0.840562</td>\n",
       "      <td>0.846678</td>\n",
       "      <td>0.00611563</td>\n",
       "    </tr>\n",
       "  </tbody>\n",
       "</table>\n",
       "</div>"
      ],
      "text/plain": [
       "model                    original   updated  difference\n",
       "mean absolute error        120915    122162     1246.31\n",
       "root mean squared error    363501    356461    -7039.65\n",
       "r-square score           0.840562  0.846678  0.00611563"
      ]
     },
     "execution_count": 25,
     "metadata": {},
     "output_type": "execute_result"
    }
   ],
   "source": [
    "# transpose dataframe, make model type the column headings, \n",
    "# and add a column that calculates the difference between the two models\n",
    "diff = models.transpose()\n",
    "diff.columns = diff.iloc[0]\n",
    "diff = diff.drop(diff.index[0])\n",
    "diff['difference'] = diff.updated - diff.original\n",
    "diff"
   ]
  },
  {
   "cell_type": "code",
   "execution_count": 26,
   "metadata": {},
   "outputs": [],
   "source": [
    "def plot_score_diffs(score_type):\n",
    "    '''Function to draw plots of score differences'''\n",
    "\n",
    "# plot type between original and updated model \n",
    "    ax = sns.barplot(x='model', y=score_type, hue='model', data=models)\n",
    "    _ = plt.hlines(y=models[score_type][0],xmin=-.5,xmax=1.7,linestyle='--',color='red')\n",
    "    _ = plt.legend(loc='center')\n",
    "    _ = plt.title(\"{}: \\nOriginal vs Updated Model\".format(score_type.title()))"
   ]
  },
  {
   "cell_type": "code",
   "execution_count": null,
   "metadata": {},
   "outputs": [],
   "source": []
  },
  {
   "cell_type": "code",
   "execution_count": 27,
   "metadata": {},
   "outputs": [
    {
     "data": {
      "image/png": "[encoded data removed]",
      "text/plain": [
       "<Figure size 432x288 with 1 Axes>"
      ]
     },
     "metadata": {
      "needs_background": "light"
     },
     "output_type": "display_data"
    }
   ],
   "source": [
    "# plot mean absolute error differences\n",
    "plot_score_diffs('mean absolute error')"
   ]
  },
  {
   "cell_type": "code",
   "execution_count": 28,
   "metadata": {},
   "outputs": [
    {
     "data": {
      "image/png": "[encoded data removed]",
      "text/plain": [
       "<Figure size 432x288 with 1 Axes>"
      ]
     },
     "metadata": {
      "needs_background": "light"
     },
     "output_type": "display_data"
    }
   ],
   "source": [
    "# plot root mean squared error differences\n",
    "plot_score_diffs('root mean squared error')"
   ]
  },
  {
   "cell_type": "code",
   "execution_count": 29,
   "metadata": {},
   "outputs": [
    {
     "data": {
      "image/png": "[encoded data removed]",
      "text/plain": [
       "<Figure size 432x288 with 1 Axes>"
      ]
     },
     "metadata": {
      "needs_background": "light"
     },
     "output_type": "display_data"
    }
   ],
   "source": [
    "# plot r-squared differences\n",
    "plot_score_diffs('r-square score')"
   ]
  },
  {
   "cell_type": "code",
   "execution_count": 30,
   "metadata": {},
   "outputs": [
    {
     "data": {
      "image/png": "[encoded data removed]",
      "text/plain": [
       "<Figure size 864x576 with 1 Axes>"
      ]
     },
     "metadata": {
      "needs_background": "light"
     },
     "output_type": "display_data"
    }
   ],
   "source": [
    "# Plot y_test values vs y_pred values\n",
    "plt.figure(figsize=(12,8))\n",
    "sns.regplot(y_pred2,y_test,color='orange')\n",
    "plt.xlabel('Predicted Prices')\n",
    "plt.ylabel('Actual Prices')\n",
    "plt.title(\"Actual vs Predicted Prices (Updated Model)\")\n",
    "plt.show()"
   ]
  },
  {
   "cell_type": "markdown",
   "metadata": {},
   "source": [
    "## Conclusion"
   ]
  },
  {
   "cell_type": "markdown",
   "metadata": {},
   "source": [
    "We were able to beat our original baseline by $363,577, but tuning parameters only increased our accuracy by a small amount. The model seems to make fairly good predictions up to a certain price point, but does not predict all that well for others. This is apparent from the various points that do not fit the regression. In future iterations, we can look at other parameters that we may tune. "
   ]
  },
  {
   "cell_type": "code",
   "execution_count": null,
   "metadata": {},
   "outputs": [],
   "source": []
  }
 ],
 "metadata": {
  "kernelspec": {
   "display_name": "Python 3",
   "language": "python",
   "name": "python3"
  },
  "language_info": {
   "codemirror_mode": {
    "name": "ipython",
    "version": 3
   },
   "file_extension": ".py",
   "mimetype": "text/x-python",
   "name": "python",
   "nbconvert_exporter": "python",
   "pygments_lexer": "ipython3",
   "version": "3.7.6"
  }
 },
 "nbformat": 4,
 "nbformat_minor": 4
}
