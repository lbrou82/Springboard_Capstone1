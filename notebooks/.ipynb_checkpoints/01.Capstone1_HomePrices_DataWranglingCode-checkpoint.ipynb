{
 "cells": [
  {
   "cell_type": "markdown",
   "metadata": {},
   "source": [
    "<h2><center>Predicting Home Values in Los Angeles’ South Bay</center></h2>\n",
    "<h3><center>Springboard | Capstone 1:   Data Wrangling Code</center></h3>\n",
    "<h4><center>By: Lauren Broussard</center></h4>"
   ]
  },
  {
   "cell_type": "code",
   "execution_count": null,
   "metadata": {},
   "outputs": [],
   "source": [
    "#import necessary modules\n",
    "import glob as glob\n",
    "import pandas as pd\n",
    "import os"
   ]
  },
  {
   "cell_type": "markdown",
   "metadata": {},
   "source": [
    "#### MERGING TABLES"
   ]
  },
  {
   "cell_type": "code",
   "execution_count": null,
   "metadata": {},
   "outputs": [],
   "source": [
    "def concat_redfin(pathway, collection_num):\n",
    "    '''Function to merge all csv files together into one dataframe\n",
    "    and create additional columns to track data'''\n",
    "\n",
    "    # get list of filenames and verify length\n",
    "    filenames = glob.glob(pathway)\n",
    "    print(\"# of Files in Collection {collection}: \".format(collection=collection_num),len(filenames))\n",
    "\n",
    "    # create empty list to hold dataframes\n",
    "    redfin_lst = []\n",
    "\n",
    "    # create list of dataframes, redfin_lst\n",
    "    for file in filenames:\n",
    "        df = pd.read_csv(file)\n",
    "        redfin_lst.append(df)\n",
    "\n",
    "    # append filename and collection number to each dataframe,\n",
    "    for dataframe, filename in zip(redfin_lst, filenames):\n",
    "        dataframe['FILENAME'] = os.path.basename(filename)\n",
    "        dataframe['COLLECTION'] = collection_num\n",
    "        dataframe['SOLD DATE'] = pd.to_datetime(dataframe['SOLD DATE'], format='%B-%d-%Y')\n",
    "        \n",
    "    # stack dataframes together\n",
    "    redfin = pd.concat(redfin_lst)\n",
    "\n",
    "     \n",
    "    return redfin"
   ]
  },
  {
   "cell_type": "code",
   "execution_count": null,
   "metadata": {},
   "outputs": [],
   "source": [
    "# run concat_redfin function on each collection of files, and assign collection number\n",
    "redfin1 = concat_redfin('Redfin Files/Redfin-1/*.csv', '1')\n",
    "redfin2 = concat_redfin('Redfin Files/Redfin-2/*.csv', '2')"
   ]
  },
  {
   "cell_type": "markdown",
   "metadata": {},
   "source": [
    "#### View initial information about the dataframes"
   ]
  },
  {
   "cell_type": "code",
   "execution_count": null,
   "metadata": {},
   "outputs": [],
   "source": [
    "# print basic info about Collection #1 dataframe\n",
    "print(\"Collection 1: Rows - {rows}; Columns - {columns}\".format(rows=len(redfin1.index), \\\n",
    "                                                                columns=len(redfin1.columns)))"
   ]
  },
  {
   "cell_type": "code",
   "execution_count": null,
   "metadata": {},
   "outputs": [],
   "source": [
    "# print basic info about Collection #2 dataframe\n",
    "print(\"Collection 2: Rows - {rows}; Columns - {columns}\".format(rows=len(redfin2.index), \\\n",
    "                                                                columns=len(redfin2.columns)))"
   ]
  },
  {
   "cell_type": "markdown",
   "metadata": {},
   "source": [
    "#### Final Merge "
   ]
  },
  {
   "cell_type": "code",
   "execution_count": null,
   "metadata": {},
   "outputs": [],
   "source": [
    "# merge collections 1 and 2 together and reset index for new dataframe\n",
    "south_bay_orig = pd.concat([redfin1,redfin2]).reset_index(drop=True)"
   ]
  },
  {
   "cell_type": "code",
   "execution_count": null,
   "metadata": {},
   "outputs": [],
   "source": [
    "# inspect new dataframe\n",
    "print(south_bay_orig.info())"
   ]
  },
  {
   "cell_type": "markdown",
   "metadata": {},
   "source": [
    "#### DROPPING COLUMNS"
   ]
  },
  {
   "cell_type": "code",
   "execution_count": null,
   "metadata": {},
   "outputs": [],
   "source": [
    "# Inspect Sale Type, Status columns\n",
    "group_cols = south_bay_orig.groupby(['SALE TYPE', 'STATUS'])['SOLD DATE'].count()\n",
    "print(group_cols)"
   ]
  },
  {
   "cell_type": "code",
   "execution_count": null,
   "metadata": {},
   "outputs": [],
   "source": [
    "#create list of other columns to drop\n",
    "cols_to_drop = ['SALE TYPE', 'NEXT OPEN HOUSE START TIME', 'NEXT OPEN HOUSE END TIME',\\\n",
    "                'URL (SEE http://www.redfin.com/buy-a-home/comparative-market-analysis FOR INFO ON PRICING)',\\\n",
    "                'STATUS','FAVORITE', 'INTERESTED', 'SOURCE']\n",
    "\n",
    "# create new south_bay dataframe and drop columns\n",
    "south_bay = south_bay_orig.drop(cols_to_drop, axis=1)"
   ]
  },
  {
   "cell_type": "code",
   "execution_count": null,
   "metadata": {},
   "outputs": [],
   "source": [
    "# verify remaining columns\n",
    "print(south_bay.columns, len(south_bay.columns))"
   ]
  },
  {
   "cell_type": "code",
   "execution_count": null,
   "metadata": {},
   "outputs": [],
   "source": []
  },
  {
   "cell_type": "markdown",
   "metadata": {},
   "source": [
    "#### MISSING/INCORRECT VALUES (BY FEATURE)"
   ]
  },
  {
   "cell_type": "markdown",
   "metadata": {},
   "source": [
    "SOLD DATE:"
   ]
  },
  {
   "cell_type": "code",
   "execution_count": null,
   "metadata": {},
   "outputs": [],
   "source": [
    "# remove rows with no sold date\n",
    "south_bay.dropna(subset=['SOLD DATE'], axis=0, inplace=True)"
   ]
  },
  {
   "cell_type": "code",
   "execution_count": null,
   "metadata": {},
   "outputs": [],
   "source": [
    "# find min and max sold dates for each collection \n",
    "coll1 = south_bay['COLLECTION'] == '1'\n",
    "coll2 = south_bay['COLLECTION'] == '2'\n",
    "\n",
    "print(\"Collection 1: Min Date - \", south_bay[coll1]['SOLD DATE'].min(), \\\n",
    "      \"Max Date - \", south_bay[coll1]['SOLD DATE'].max())\n",
    "print(\"Collection 2: Min Date - \", south_bay[coll2]['SOLD DATE'].min(), \"Max Date - \", \\\n",
    "      south_bay[coll2]['SOLD DATE'].max())"
   ]
  },
  {
   "cell_type": "code",
   "execution_count": null,
   "metadata": {},
   "outputs": [],
   "source": [
    "# reduce dataframe to keep SOLD DATES from 2018-02-06 to 2020-01-24\n",
    "south_bay = south_bay[(south_bay['SOLD DATE'] >= '2018-02-06') & (south_bay['SOLD DATE'] <= '2020-01-24')]"
   ]
  },
  {
   "cell_type": "markdown",
   "metadata": {},
   "source": [
    "PROPERTY TYPE:"
   ]
  },
  {
   "cell_type": "code",
   "execution_count": null,
   "metadata": {
    "scrolled": true
   },
   "outputs": [],
   "source": [
    "# look at values for property type column\n",
    "group_type = south_bay.groupby(['PROPERTY TYPE'])['SOLD DATE'].count()\n",
    "print(group_type)"
   ]
  },
  {
   "cell_type": "code",
   "execution_count": null,
   "metadata": {},
   "outputs": [],
   "source": [
    "# further inspect 'Condo/Co-op' \n",
    "south_bay[south_bay['PROPERTY TYPE'] == 'Condo/Co-op'].describe()"
   ]
  },
  {
   "cell_type": "code",
   "execution_count": null,
   "metadata": {},
   "outputs": [],
   "source": [
    "# further inspect 'Mobile/Manufactured Home' \n",
    "south_bay[south_bay['PROPERTY TYPE'] == 'Mobile/Manufactured Home'].describe()"
   ]
  },
  {
   "cell_type": "code",
   "execution_count": null,
   "metadata": {},
   "outputs": [],
   "source": [
    "# further inspect 'Multi-Family (2-4 Unit)'\n",
    "south_bay[south_bay['PROPERTY TYPE'] == 'Multi-Family (2-4 Unit)'].describe()"
   ]
  },
  {
   "cell_type": "code",
   "execution_count": null,
   "metadata": {},
   "outputs": [],
   "source": [
    "# further inspect 'Multi-Family (5+ Unit)' \n",
    "south_bay[south_bay['PROPERTY TYPE'] == 'Multi-Family (5+ Unit)'].describe()"
   ]
  },
  {
   "cell_type": "code",
   "execution_count": null,
   "metadata": {},
   "outputs": [],
   "source": [
    "# inspect 'Vacant Land' Property Type\n",
    "south_bay[south_bay['PROPERTY TYPE'] == 'Vacant Land'].describe()"
   ]
  },
  {
   "cell_type": "code",
   "execution_count": null,
   "metadata": {},
   "outputs": [],
   "source": [
    "# keep Property Type with values: Single Family Residential, Townhouse, Condo/Co-op, Mobile/Manufactured Home.\n",
    "prop_types = ['Single Family Residential', 'Townhouse', 'Condo/Co-op', 'Mobile/Manufactured Home']\n",
    "\n",
    "south_bay = south_bay[south_bay['PROPERTY TYPE'].isin(prop_types)]"
   ]
  },
  {
   "cell_type": "code",
   "execution_count": null,
   "metadata": {},
   "outputs": [],
   "source": [
    "# verify result\n",
    "south_bay.groupby(['PROPERTY TYPE'])['SOLD DATE'].count()"
   ]
  },
  {
   "cell_type": "markdown",
   "metadata": {},
   "source": [
    "ADDRESS: "
   ]
  },
  {
   "cell_type": "code",
   "execution_count": null,
   "metadata": {},
   "outputs": [],
   "source": [
    "# view records with empty Address\n",
    "south_bay[south_bay['ADDRESS'].isnull()]"
   ]
  },
  {
   "cell_type": "code",
   "execution_count": null,
   "metadata": {},
   "outputs": [],
   "source": [
    "# drop rows with no address data\n",
    "south_bay.dropna(subset=['ADDRESS'], axis=0, inplace=True)"
   ]
  },
  {
   "cell_type": "code",
   "execution_count": null,
   "metadata": {},
   "outputs": [],
   "source": [
    "# update addresses to mixed case \n",
    "south_bay['ADDRESS'] = south_bay['ADDRESS'].apply(lambda x: x.title()) "
   ]
  },
  {
   "cell_type": "markdown",
   "metadata": {},
   "source": [
    "CITY:"
   ]
  },
  {
   "cell_type": "code",
   "execution_count": null,
   "metadata": {},
   "outputs": [],
   "source": [
    "# change cities to mixed case\n",
    "south_bay['CITY'] = south_bay['CITY'].astype(str).apply(lambda x: x.title()) "
   ]
  },
  {
   "cell_type": "code",
   "execution_count": null,
   "metadata": {},
   "outputs": [],
   "source": [
    "# view rows with no CITY data\n",
    "south_bay[south_bay['CITY'].isnull()]"
   ]
  },
  {
   "cell_type": "code",
   "execution_count": null,
   "metadata": {},
   "outputs": [],
   "source": [
    "# update missing City data\n",
    "south_bay.at[3695, 'CITY'] = 'Harbor City'\n",
    "south_bay.at[8764,'CITY'] = 'Palos Verdes Estates'"
   ]
  },
  {
   "cell_type": "code",
   "execution_count": null,
   "metadata": {},
   "outputs": [],
   "source": [
    "# group by City\n",
    "south_bay.groupby(['CITY'])['SOLD DATE'].count()"
   ]
  },
  {
   "cell_type": "code",
   "execution_count": null,
   "metadata": {},
   "outputs": [],
   "source": [
    "# check cities with under 5 or fewer sales \n",
    "small_city_count = ['Compton','County - Los Angeles', 'Harbor', 'Ladera Heights', 'Long Beach', 'Los Feliz',\\\n",
    "                'Park Hills Heights', 'San Bernardino', 'Venice', 'View Park']\n",
    "\n",
    "city_check = south_bay[south_bay['CITY'].isin(small_city_count)]\n",
    "city_check.to_csv('city_check.csv')"
   ]
  },
  {
   "cell_type": "code",
   "execution_count": null,
   "metadata": {},
   "outputs": [],
   "source": [
    "# create mapping for city names to update\n",
    "\n",
    "small_city_map = {'County - Los Angeles': 'Los Angeles', \n",
    "                  'Los Feliz': 'Los Angeles', 'Harbor': 'Harbor City', \n",
    "                  'Ladera Heights': 'Los Angeles', \n",
    "                  'Park Hills Heights': 'Los Angeles', \n",
    "                  'View Park': 'Los Angeles', 'Venice': 'Playa Del Rey'}"
   ]
  },
  {
   "cell_type": "code",
   "execution_count": null,
   "metadata": {},
   "outputs": [],
   "source": [
    "# replace city names with mapping above \n",
    "south_bay.replace({'CITY' : small_city_map}, inplace=True)"
   ]
  },
  {
   "cell_type": "code",
   "execution_count": null,
   "metadata": {},
   "outputs": [],
   "source": [
    "# drop row with san bernardino city  \n",
    "south_bay.drop(south_bay[south_bay['CITY'] == 'San Bernardino'].index, inplace=True)"
   ]
  },
  {
   "cell_type": "code",
   "execution_count": null,
   "metadata": {},
   "outputs": [],
   "source": [
    "# verify results\n",
    "south_bay.groupby(['CITY'])['SOLD DATE'].count()"
   ]
  },
  {
   "cell_type": "markdown",
   "metadata": {},
   "source": [
    "ZIP/POSTAL CODES:"
   ]
  },
  {
   "cell_type": "code",
   "execution_count": null,
   "metadata": {},
   "outputs": [],
   "source": [
    "# view rows with no zip code data\n",
    "south_bay[south_bay['ZIP OR POSTAL CODE'].isnull()]"
   ]
  },
  {
   "cell_type": "code",
   "execution_count": null,
   "metadata": {},
   "outputs": [],
   "source": [
    "# check for zip code errors\n",
    "zip_check = (south_bay['ZIP OR POSTAL CODE'] < 90000) | (south_bay['ZIP OR POSTAL CODE'] >= 99999)\n",
    "print(south_bay.loc[:,['ADDRESS', 'PROPERTY TYPE', 'CITY', 'ZIP OR POSTAL CODE']][zip_check])"
   ]
  },
  {
   "cell_type": "code",
   "execution_count": null,
   "metadata": {},
   "outputs": [],
   "source": [
    "# update zip codes to from 70717 to 90717\n",
    "south_bay.at[7501, 'ZIP OR POSTAL CODE'] = 90717.0\n",
    "south_bay.at[10126,'ZIP OR POSTAL CODE'] = 90717.0"
   ]
  },
  {
   "cell_type": "markdown",
   "metadata": {},
   "source": [
    "PRICE: "
   ]
  },
  {
   "cell_type": "code",
   "execution_count": null,
   "metadata": {},
   "outputs": [],
   "source": [
    "# check for min and max prices\n",
    "south_bay[(south_bay['PRICE'] == south_bay['PRICE'].min()) | (south_bay['PRICE'] == south_bay['PRICE'].max())]"
   ]
  },
  {
   "cell_type": "code",
   "execution_count": null,
   "metadata": {},
   "outputs": [],
   "source": [
    "# view price info\n",
    "south_bay['PRICE'].describe()"
   ]
  },
  {
   "cell_type": "code",
   "execution_count": null,
   "metadata": {},
   "outputs": [],
   "source": [
    "# view low prices\n",
    "south_bay[south_bay['PRICE'] < 10000] "
   ]
  },
  {
   "cell_type": "code",
   "execution_count": null,
   "metadata": {},
   "outputs": [],
   "source": [
    "# drop records where price < 10000\n",
    "south_bay.drop(south_bay[south_bay['PRICE'] < 10000].index,axis=0,inplace=True)"
   ]
  },
  {
   "cell_type": "markdown",
   "metadata": {},
   "source": [
    "BEDS:"
   ]
  },
  {
   "cell_type": "code",
   "execution_count": null,
   "metadata": {},
   "outputs": [],
   "source": [
    "# view empty data for Beds column \n",
    "south_bay[south_bay['BEDS'].isnull()]"
   ]
  },
  {
   "cell_type": "code",
   "execution_count": null,
   "metadata": {},
   "outputs": [],
   "source": [
    "#drop all rows with missing beds data\n",
    "south_bay.dropna(subset=['BEDS'], axis=0, inplace=True)"
   ]
  },
  {
   "cell_type": "code",
   "execution_count": null,
   "metadata": {},
   "outputs": [],
   "source": [
    "# view range for num of beds\n",
    "south_bay['BEDS'].describe()"
   ]
  },
  {
   "cell_type": "code",
   "execution_count": null,
   "metadata": {},
   "outputs": [],
   "source": [
    "# display beds that are 0\n",
    "south_bay[(south_bay['BEDS'] == 0)]"
   ]
  },
  {
   "cell_type": "code",
   "execution_count": null,
   "metadata": {},
   "outputs": [],
   "source": []
  },
  {
   "cell_type": "markdown",
   "metadata": {},
   "source": [
    "BATHS:"
   ]
  },
  {
   "cell_type": "code",
   "execution_count": null,
   "metadata": {},
   "outputs": [],
   "source": [
    "# view empty data for Baths column \n",
    "south_bay[south_bay['BATHS'].isnull()]"
   ]
  },
  {
   "cell_type": "code",
   "execution_count": null,
   "metadata": {},
   "outputs": [],
   "source": [
    "#drop all rows with missing baths data\n",
    "south_bay.dropna(subset=['BATHS'], axis=0, inplace=True)"
   ]
  },
  {
   "cell_type": "code",
   "execution_count": null,
   "metadata": {},
   "outputs": [],
   "source": [
    "# view range for num of baths\n",
    "south_bay['BATHS'].describe()"
   ]
  },
  {
   "cell_type": "markdown",
   "metadata": {},
   "source": [
    "BED/BATHS:"
   ]
  },
  {
   "cell_type": "code",
   "execution_count": null,
   "metadata": {},
   "outputs": [],
   "source": [
    "# view records with large amount of bedrooms or bathrooms\n",
    "south_bay[(south_bay['BEDS'] > 10) | (south_bay['BATHS'] > 10)]"
   ]
  },
  {
   "cell_type": "code",
   "execution_count": null,
   "metadata": {},
   "outputs": [],
   "source": [
    "# drop SFR on 1 Buggy Whip Dr and at 3642 Garnet St - indexes 10157, 18145\n",
    "south_bay.drop(south_bay[(south_bay['ADDRESS'] == '1 Buggy Whip Dr')|\\\n",
    "                         (south_bay['ADDRESS'] == '3642 Garnet St')].index,axis=0,inplace=True)"
   ]
  },
  {
   "cell_type": "markdown",
   "metadata": {},
   "source": [
    "LOCATION/NEIGHBORHOOD:"
   ]
  },
  {
   "cell_type": "code",
   "execution_count": null,
   "metadata": {},
   "outputs": [],
   "source": [
    "# view location data\n",
    "south_bay.groupby(['LOCATION'])['SOLD DATE'].count()"
   ]
  },
  {
   "cell_type": "code",
   "execution_count": null,
   "metadata": {},
   "outputs": [],
   "source": [
    "# create new \"neighborhood\" column based on filename\n",
    "# change string from filename like 'alondra-park_condo.csv' to 'Alondra Park'\n",
    "south_bay['NEIGHBORHOOD'] = south_bay['FILENAME'].apply(lambda x: x.split(\"_\")[0]\\\n",
    "                                                        .split(\".\")[0].title().replace('-',' '))"
   ]
  },
  {
   "cell_type": "code",
   "execution_count": null,
   "metadata": {},
   "outputs": [],
   "source": [
    "# verify new column information\n",
    "south_bay.groupby(['NEIGHBORHOOD'])['SOLD DATE'].count()"
   ]
  },
  {
   "cell_type": "code",
   "execution_count": null,
   "metadata": {},
   "outputs": [],
   "source": [
    "# update Redondo to Redondo Beach and Manhattan to Manhattan Beach\n",
    "south_bay.replace({'NEIGHBORHOOD' : {'Redondo': 'Redondo Beach', 'Manhattan': 'Manhattan Beach'}}, inplace=True)"
   ]
  },
  {
   "cell_type": "code",
   "execution_count": null,
   "metadata": {},
   "outputs": [],
   "source": [
    "# drop original location column\n",
    "south_bay.drop('LOCATION', axis=1, inplace=True)"
   ]
  },
  {
   "cell_type": "code",
   "execution_count": null,
   "metadata": {},
   "outputs": [],
   "source": [
    "south_bay.columns"
   ]
  },
  {
   "cell_type": "markdown",
   "metadata": {},
   "source": [
    "SQUARE FEET:"
   ]
  },
  {
   "cell_type": "code",
   "execution_count": null,
   "metadata": {},
   "outputs": [],
   "source": [
    "# view empty data for Square Feet column \n",
    "south_bay[south_bay['SQUARE FEET'].isnull()]"
   ]
  },
  {
   "cell_type": "code",
   "execution_count": null,
   "metadata": {},
   "outputs": [],
   "source": [
    "# view empty square feet column by property type\n",
    "south_bay[south_bay['SQUARE FEET'].isnull()].groupby(['PROPERTY TYPE'])['SOLD DATE'].count()"
   ]
  },
  {
   "cell_type": "code",
   "execution_count": null,
   "metadata": {},
   "outputs": [],
   "source": [
    "# view properties with null square feet and are not mobile homes \n",
    "null_sqf = south_bay[(south_bay['SQUARE FEET'].isnull()) & (south_bay['PROPERTY TYPE'] != 'Mobile/Manufactured Home')]\n",
    "null_sqf"
   ]
  },
  {
   "cell_type": "code",
   "execution_count": null,
   "metadata": {},
   "outputs": [],
   "source": [
    "# drop rows\n",
    "south_bay.drop(null_sqf.index,inplace=True)"
   ]
  },
  {
   "cell_type": "code",
   "execution_count": null,
   "metadata": {},
   "outputs": [],
   "source": [
    "# view square feet for mobile homes that are not null\n",
    "south_bay[~(south_bay['SQUARE FEET'].isnull()) & (south_bay['PROPERTY TYPE'] == 'Mobile/Manufactured Home')].head()"
   ]
  },
  {
   "cell_type": "code",
   "execution_count": null,
   "metadata": {},
   "outputs": [],
   "source": [
    "# fill mobile home square feet with average sq feet\n",
    "\n",
    "# find average sq feet for mobile homes\n",
    "mh_means = south_bay[south_bay['PROPERTY TYPE'] == 'Mobile/Manufactured Home'].mean(axis=0,skipna=True)\n",
    "\n",
    "# get mean for square feet\n",
    "mh_sqft_mean = mh_means['SQUARE FEET']\n",
    "\n",
    "\n",
    "# fill na with mean\n",
    "south_bay['SQUARE FEET'].fillna(mh_sqft_mean,inplace=True)"
   ]
  },
  {
   "cell_type": "code",
   "execution_count": null,
   "metadata": {},
   "outputs": [],
   "source": [
    "# view Square Feet of 0\n",
    "south_bay[south_bay['SQUARE FEET'] == 0]"
   ]
  },
  {
   "cell_type": "code",
   "execution_count": null,
   "metadata": {},
   "outputs": [],
   "source": [
    "# update property at 19507 Anza Ave: square feet 1762\n",
    "south_bay.at[17234, 'SQUARE FEET'] = 1762"
   ]
  },
  {
   "cell_type": "code",
   "execution_count": null,
   "metadata": {},
   "outputs": [],
   "source": [
    "#drop other two properties\n",
    "south_bay.drop(south_bay[south_bay['SQUARE FEET'] == 0].index, axis=0, inplace=True)"
   ]
  },
  {
   "cell_type": "markdown",
   "metadata": {},
   "source": [
    "LOT SIZE:"
   ]
  },
  {
   "cell_type": "code",
   "execution_count": null,
   "metadata": {},
   "outputs": [],
   "source": [
    "# view length of empty data for LOT SIZE column \n",
    "len(south_bay[south_bay['LOT SIZE'].isnull()])"
   ]
  },
  {
   "cell_type": "code",
   "execution_count": null,
   "metadata": {},
   "outputs": [],
   "source": [
    "# view empty lot size by property type\n",
    "south_bay[south_bay['LOT SIZE'].isnull()].groupby(['PROPERTY TYPE'])['SOLD DATE'].count()"
   ]
  },
  {
   "cell_type": "code",
   "execution_count": null,
   "metadata": {},
   "outputs": [],
   "source": [
    "# create list of property types\n",
    "prop_type = ['Condo/Co-op', 'Mobile/Manufactured Home', 'Single Family Residential', 'Townhouse']\n",
    "\n",
    "#create list of columns to display\n",
    "cols_list = ['PROPERTY TYPE','PRICE','BEDS','BATHS','SQUARE FEET','LOT SIZE','YEAR BUILT', \\\n",
    "             'DAYS ON MARKET', '$/SQUARE FEET']"
   ]
  },
  {
   "cell_type": "markdown",
   "metadata": {},
   "source": [
    "- Condo/Co-op"
   ]
  },
  {
   "cell_type": "code",
   "execution_count": null,
   "metadata": {},
   "outputs": [],
   "source": [
    "# look at Condo/Co-op lots\n",
    "condos = south_bay[south_bay['PROPERTY TYPE'] == prop_type[0]]\n",
    "condos[cols_list].head(10)"
   ]
  },
  {
   "cell_type": "code",
   "execution_count": null,
   "metadata": {},
   "outputs": [],
   "source": [
    "condos['LOT SIZE'].describe()"
   ]
  },
  {
   "cell_type": "markdown",
   "metadata": {},
   "source": [
    "- Mobile/Manufactured Homes"
   ]
  },
  {
   "cell_type": "code",
   "execution_count": null,
   "metadata": {},
   "outputs": [],
   "source": [
    "# look at Mobile Homes lots missing data\n",
    "mobile = south_bay[(south_bay['PROPERTY TYPE'] == prop_type[1]) & (~south_bay['LOT SIZE'].isnull())]\n",
    "mobile[cols_list].head(10)"
   ]
  },
  {
   "cell_type": "code",
   "execution_count": null,
   "metadata": {},
   "outputs": [],
   "source": [
    "mobile['LOT SIZE'].describe()"
   ]
  },
  {
   "cell_type": "markdown",
   "metadata": {},
   "source": [
    "- Single Family Residential"
   ]
  },
  {
   "cell_type": "code",
   "execution_count": null,
   "metadata": {},
   "outputs": [],
   "source": [
    "# look at Single Family Residential lots\n",
    "sfr = south_bay[south_bay['PROPERTY TYPE'] == prop_type[2]]\n",
    "sfr[cols_list].head(10)"
   ]
  },
  {
   "cell_type": "code",
   "execution_count": null,
   "metadata": {},
   "outputs": [],
   "source": [
    "sfr['LOT SIZE'].describe()"
   ]
  },
  {
   "cell_type": "markdown",
   "metadata": {},
   "source": [
    "- Townhome"
   ]
  },
  {
   "cell_type": "code",
   "execution_count": null,
   "metadata": {},
   "outputs": [],
   "source": [
    "# look at Townhome lots\n",
    "townhome = south_bay[south_bay['PROPERTY TYPE'] == prop_type[3]]\n",
    "townhome[cols_list].head(10)"
   ]
  },
  {
   "cell_type": "code",
   "execution_count": null,
   "metadata": {},
   "outputs": [],
   "source": [
    "townhome['LOT SIZE'].describe()"
   ]
  },
  {
   "cell_type": "markdown",
   "metadata": {},
   "source": [
    "- Fill NA"
   ]
  },
  {
   "cell_type": "code",
   "execution_count": null,
   "metadata": {},
   "outputs": [],
   "source": [
    "# fill NAs with median value for each property type\n",
    "\n",
    "south_bay['LOT SIZE'] = south_bay.groupby(['PROPERTY TYPE'])['LOT SIZE'].apply(lambda x: x.fillna(x.median()))"
   ]
  },
  {
   "cell_type": "markdown",
   "metadata": {},
   "source": []
  },
  {
   "cell_type": "markdown",
   "metadata": {},
   "source": [
    "YEAR BUILT:"
   ]
  },
  {
   "cell_type": "code",
   "execution_count": null,
   "metadata": {},
   "outputs": [],
   "source": [
    "# find empty years\n",
    "no_year = south_bay[south_bay['YEAR BUILT'].isnull()]\n",
    "no_year.to_csv('no year.csv')"
   ]
  },
  {
   "cell_type": "code",
   "execution_count": null,
   "metadata": {},
   "outputs": [],
   "source": [
    "# drop empty years\n",
    "south_bay.dropna(subset=['YEAR BUILT'], axis=0, inplace=True)"
   ]
  },
  {
   "cell_type": "code",
   "execution_count": null,
   "metadata": {},
   "outputs": [],
   "source": [
    "# check for year built outside of 1818 to 2020 range\n",
    "year_check = (south_bay['YEAR BUILT'] < 1818) | (south_bay['YEAR BUILT'] > 2020)\n",
    "print(south_bay.loc[:,['SOLD DATE', 'ADDRESS', 'PROPERTY TYPE', 'YEAR BUILT','FILENAME']][year_check])"
   ]
  },
  {
   "cell_type": "code",
   "execution_count": null,
   "metadata": {},
   "outputs": [],
   "source": [
    "# drop property built in 2021\n",
    "south_bay.drop(index=[5744,7925],inplace=True)"
   ]
  },
  {
   "cell_type": "markdown",
   "metadata": {},
   "source": [
    "$/SQUARE FEET:"
   ]
  },
  {
   "cell_type": "code",
   "execution_count": null,
   "metadata": {},
   "outputs": [],
   "source": [
    "# pull empty data about $/SQUARE FEET\n",
    "ppsqf_nulls = south_bay[south_bay['$/SQUARE FEET'].isnull()]"
   ]
  },
  {
   "cell_type": "code",
   "execution_count": null,
   "metadata": {},
   "outputs": [],
   "source": [
    "# create formula to fill $/SQUARE FEET\n",
    "ppsqf_fill = south_bay['PRICE'] / south_bay['SQUARE FEET']"
   ]
  },
  {
   "cell_type": "code",
   "execution_count": null,
   "metadata": {},
   "outputs": [],
   "source": [
    "# fill na with ppsqf results\n",
    "south_bay['$/SQUARE FEET'].fillna(ppsqf_fill, inplace=True)"
   ]
  },
  {
   "cell_type": "markdown",
   "metadata": {},
   "source": [
    "HOA/MONTH:"
   ]
  },
  {
   "cell_type": "code",
   "execution_count": null,
   "metadata": {},
   "outputs": [],
   "source": [
    "# view empty data for HOA/MONTH column \n",
    "south_bay[south_bay['HOA/MONTH'].isnull()]"
   ]
  },
  {
   "cell_type": "code",
   "execution_count": null,
   "metadata": {},
   "outputs": [],
   "source": [
    "#view HOA/MONTH column with 0 values\n",
    "south_bay[south_bay['HOA/MONTH'] == 0]"
   ]
  },
  {
   "cell_type": "code",
   "execution_count": null,
   "metadata": {},
   "outputs": [],
   "source": [
    "# fill NA HOA/MONTH values with 0 \n",
    "south_bay['HOA/MONTH'].fillna(value=0, inplace=True)"
   ]
  },
  {
   "cell_type": "code",
   "execution_count": null,
   "metadata": {},
   "outputs": [],
   "source": []
  },
  {
   "cell_type": "markdown",
   "metadata": {},
   "source": [
    "#### DUPLICATE VALUES"
   ]
  },
  {
   "cell_type": "markdown",
   "metadata": {},
   "source": [
    "- We'll first check for duplicates on all columns but the newly created ones"
   ]
  },
  {
   "cell_type": "code",
   "execution_count": null,
   "metadata": {},
   "outputs": [],
   "source": [
    "# create subset columns to check for duplicates \n",
    "subset_cols = ['SOLD DATE', 'PROPERTY TYPE', 'ADDRESS', 'CITY', 'STATE OR PROVINCE',\\\n",
    "               'ZIP OR POSTAL CODE', 'PRICE', 'BEDS', 'BATHS', 'SQUARE FEET',\\\n",
    "               'LOT SIZE', 'YEAR BUILT', 'DAYS ON MARKET', '$/SQUARE FEET',\\\n",
    "               'HOA/MONTH', 'LATITUDE', 'LONGITUDE']"
   ]
  },
  {
   "cell_type": "code",
   "execution_count": null,
   "metadata": {},
   "outputs": [],
   "source": [
    "# display duplicates and save to file to inspect\n",
    "sb_dupes = south_bay[south_bay.duplicated(subset=subset_cols , keep=False)]\n",
    "sb_dupes = sb_dupes.sort_values(by=['ADDRESS'])\n",
    "sb_dupes.to_csv('sb_dupes1.csv')"
   ]
  },
  {
   "cell_type": "code",
   "execution_count": null,
   "metadata": {},
   "outputs": [],
   "source": []
  },
  {
   "cell_type": "code",
   "execution_count": null,
   "metadata": {},
   "outputs": [],
   "source": [
    "# create subset with duplicated values & update neighborhood value with name of city\n",
    "dupe_bool = south_bay.duplicated(subset = subset_cols, keep=False)\n",
    "south_bay.loc[dupe_bool,'NEIGHBORHOOD'] = south_bay['CITY']"
   ]
  },
  {
   "cell_type": "code",
   "execution_count": null,
   "metadata": {},
   "outputs": [],
   "source": [
    "# verify one address from original duplicate file to check neighborhood change\n",
    "south_bay[south_bay['ADDRESS'] == '10019 S Burl Ave Unit N']"
   ]
  },
  {
   "cell_type": "code",
   "execution_count": null,
   "metadata": {},
   "outputs": [],
   "source": [
    "# drop duplicates\n",
    "south_bay.drop_duplicates(subset=subset_cols,keep='first',inplace=True)"
   ]
  },
  {
   "cell_type": "markdown",
   "metadata": {},
   "source": [
    "- Next, we'll look for duplicates based on MLS#. The MLS# should be a unique value. "
   ]
  },
  {
   "cell_type": "code",
   "execution_count": null,
   "metadata": {},
   "outputs": [],
   "source": [
    "# look at MLS# duplicates\n",
    "sb_dupes2 = south_bay[south_bay.duplicated(subset= 'MLS#', keep=False)]\n",
    "sb_dupes2.sort_values(by=['ADDRESS']).to_csv('sb_dupes2.csv')"
   ]
  },
  {
   "cell_type": "markdown",
   "metadata": {},
   "source": [
    "Upon inspecting the CSV output, the values that seem to differ between the duplicate rows are the neighborhood and the days on market column. We will use the max value for days on market, and update the neighborhood values as before - and drop the others rows. "
   ]
  },
  {
   "cell_type": "code",
   "execution_count": null,
   "metadata": {},
   "outputs": [],
   "source": [
    "# create subset with duplicated values & update neighborhood value as before\n",
    "dupe_bool = south_bay.duplicated(subset = 'MLS#', keep=False)\n",
    "south_bay.loc[dupe_bool,'NEIGHBORHOOD'] = south_bay['CITY']"
   ]
  },
  {
   "cell_type": "code",
   "execution_count": null,
   "metadata": {},
   "outputs": [],
   "source": [
    "# sort values then drop duplicates\n",
    "south_bay.sort_values(['ADDRESS','DAYS ON MARKET'])\n",
    "south_bay.drop_duplicates('MLS#', keep='last', inplace=True)"
   ]
  },
  {
   "cell_type": "code",
   "execution_count": null,
   "metadata": {},
   "outputs": [],
   "source": [
    "# verify one address from original MLS duplicate file to see Days on Market change\n",
    "# days on market should be 608\n",
    "south_bay[south_bay['ADDRESS'] == '1001 Park Circle Dr']"
   ]
  },
  {
   "cell_type": "code",
   "execution_count": null,
   "metadata": {},
   "outputs": [],
   "source": []
  },
  {
   "cell_type": "code",
   "execution_count": null,
   "metadata": {},
   "outputs": [],
   "source": [
    "south_bay.drop_duplicates(subset=subset_cols,keep='first',inplace=True)"
   ]
  },
  {
   "cell_type": "markdown",
   "metadata": {},
   "source": [
    "#### VARIABLE TYPES"
   ]
  },
  {
   "cell_type": "code",
   "execution_count": null,
   "metadata": {},
   "outputs": [],
   "source": [
    "# change variable types for: ZIP OR POSTAL CODE, YEAR BUILT\n",
    "south_bay['ZIP OR POSTAL CODE'] = south_bay['ZIP OR POSTAL CODE'].astype(int)\n",
    "south_bay['YEAR BUILT'] = south_bay['YEAR BUILT'].astype(int)"
   ]
  },
  {
   "cell_type": "markdown",
   "metadata": {},
   "source": [
    "#### INSPECT FINAL DATA FRAME"
   ]
  },
  {
   "cell_type": "code",
   "execution_count": null,
   "metadata": {},
   "outputs": [],
   "source": [
    "# drop filename, state and collection column\n",
    "south_bay.drop(['STATE OR PROVINCE','FILENAME','COLLECTION'], axis=1,inplace=True)"
   ]
  },
  {
   "cell_type": "code",
   "execution_count": null,
   "metadata": {},
   "outputs": [],
   "source": [
    "# reorder columns to move price to front and drop state and MLS# column *\n",
    "\n",
    "cols = ['SOLD DATE', 'PROPERTY TYPE', 'ADDRESS', 'CITY', 'PRICE',\n",
    "       'ZIP OR POSTAL CODE', 'BEDS', 'BATHS', 'SQUARE FEET',\n",
    "       'LOT SIZE', 'YEAR BUILT', 'DAYS ON MARKET', '$/SQUARE FEET',\n",
    "       'HOA/MONTH', 'MLS#', 'LATITUDE', 'LONGITUDE', 'NEIGHBORHOOD']\n",
    "\n",
    "south_bay = south_bay[cols]"
   ]
  },
  {
   "cell_type": "code",
   "execution_count": null,
   "metadata": {},
   "outputs": [],
   "source": [
    "# reset index\n",
    "south_bay = south_bay.reset_index(drop=True)"
   ]
  },
  {
   "cell_type": "code",
   "execution_count": null,
   "metadata": {},
   "outputs": [],
   "source": [
    "south_bay.head()"
   ]
  },
  {
   "cell_type": "code",
   "execution_count": null,
   "metadata": {},
   "outputs": [],
   "source": [
    "south_bay.info()"
   ]
  },
  {
   "cell_type": "code",
   "execution_count": null,
   "metadata": {},
   "outputs": [],
   "source": [
    "south_bay.to_csv('south_bay_cleaned.csv', index=False)"
   ]
  },
  {
   "cell_type": "code",
   "execution_count": null,
   "metadata": {},
   "outputs": [],
   "source": []
  }
 ],
 "metadata": {
  "kernelspec": {
   "display_name": "Python 3",
   "language": "python",
   "name": "python3"
  },
  "language_info": {
   "codemirror_mode": {
    "name": "ipython",
    "version": 3
   },
   "file_extension": ".py",
   "mimetype": "text/x-python",
   "name": "python",
   "nbconvert_exporter": "python",
   "pygments_lexer": "ipython3",
   "version": "3.7.6"
  }
 },
 "nbformat": 4,
 "nbformat_minor": 2
}
